{
  "nbformat": 4,
  "nbformat_minor": 0,
  "metadata": {
    "colab": {
      "provenance": [],
      "gpuType": "T4",
      "authorship_tag": "ABX9TyP7urjbuSrHo58yHF2G+J6a",
      "include_colab_link": true
    },
    "kernelspec": {
      "name": "python3",
      "display_name": "Python 3"
    },
    "language_info": {
      "name": "python"
    },
    "accelerator": "GPU",
    "widgets": {
      "application/vnd.jupyter.widget-state+json": {
        "49196159367f4548bdf0a8641f1e7412": {
          "model_module": "@jupyter-widgets/controls",
          "model_name": "HBoxModel",
          "model_module_version": "1.5.0",
          "state": {
            "_dom_classes": [],
            "_model_module": "@jupyter-widgets/controls",
            "_model_module_version": "1.5.0",
            "_model_name": "HBoxModel",
            "_view_count": null,
            "_view_module": "@jupyter-widgets/controls",
            "_view_module_version": "1.5.0",
            "_view_name": "HBoxView",
            "box_style": "",
            "children": [
              "IPY_MODEL_4e5a9c724e4b46a8a39292e18ef01262",
              "IPY_MODEL_fc18974880644650adfd35b124015a54",
              "IPY_MODEL_05ebe8ef26424797b4d365c47c1934ae"
            ],
            "layout": "IPY_MODEL_d35bae3670f54fbea3c305ef10c58242"
          }
        },
        "4e5a9c724e4b46a8a39292e18ef01262": {
          "model_module": "@jupyter-widgets/controls",
          "model_name": "HTMLModel",
          "model_module_version": "1.5.0",
          "state": {
            "_dom_classes": [],
            "_model_module": "@jupyter-widgets/controls",
            "_model_module_version": "1.5.0",
            "_model_name": "HTMLModel",
            "_view_count": null,
            "_view_module": "@jupyter-widgets/controls",
            "_view_module_version": "1.5.0",
            "_view_name": "HTMLView",
            "description": "",
            "description_tooltip": null,
            "layout": "IPY_MODEL_966c4cf58dc2450ca81ec43d156426c6",
            "placeholder": "​",
            "style": "IPY_MODEL_c8bc177c2969430d90f035c290046dd7",
            "value": "config.json: 100%"
          }
        },
        "fc18974880644650adfd35b124015a54": {
          "model_module": "@jupyter-widgets/controls",
          "model_name": "FloatProgressModel",
          "model_module_version": "1.5.0",
          "state": {
            "_dom_classes": [],
            "_model_module": "@jupyter-widgets/controls",
            "_model_module_version": "1.5.0",
            "_model_name": "FloatProgressModel",
            "_view_count": null,
            "_view_module": "@jupyter-widgets/controls",
            "_view_module_version": "1.5.0",
            "_view_name": "ProgressView",
            "bar_style": "success",
            "description": "",
            "description_tooltip": null,
            "layout": "IPY_MODEL_2ee506ad2e3e45c58b606403cb7bb8a3",
            "max": 1585,
            "min": 0,
            "orientation": "horizontal",
            "style": "IPY_MODEL_2979badb71c847d68d10aeb9ff6844dd",
            "value": 1585
          }
        },
        "05ebe8ef26424797b4d365c47c1934ae": {
          "model_module": "@jupyter-widgets/controls",
          "model_name": "HTMLModel",
          "model_module_version": "1.5.0",
          "state": {
            "_dom_classes": [],
            "_model_module": "@jupyter-widgets/controls",
            "_model_module_version": "1.5.0",
            "_model_name": "HTMLModel",
            "_view_count": null,
            "_view_module": "@jupyter-widgets/controls",
            "_view_module_version": "1.5.0",
            "_view_name": "HTMLView",
            "description": "",
            "description_tooltip": null,
            "layout": "IPY_MODEL_85e05923673c4c6ca34bb6e6f7204eda",
            "placeholder": "​",
            "style": "IPY_MODEL_dc4d70f4c7fd470c8d7c1b8c16b1eba3",
            "value": " 1.58k/1.58k [00:00&lt;00:00, 47.1kB/s]"
          }
        },
        "d35bae3670f54fbea3c305ef10c58242": {
          "model_module": "@jupyter-widgets/base",
          "model_name": "LayoutModel",
          "model_module_version": "1.2.0",
          "state": {
            "_model_module": "@jupyter-widgets/base",
            "_model_module_version": "1.2.0",
            "_model_name": "LayoutModel",
            "_view_count": null,
            "_view_module": "@jupyter-widgets/base",
            "_view_module_version": "1.2.0",
            "_view_name": "LayoutView",
            "align_content": null,
            "align_items": null,
            "align_self": null,
            "border": null,
            "bottom": null,
            "display": null,
            "flex": null,
            "flex_flow": null,
            "grid_area": null,
            "grid_auto_columns": null,
            "grid_auto_flow": null,
            "grid_auto_rows": null,
            "grid_column": null,
            "grid_gap": null,
            "grid_row": null,
            "grid_template_areas": null,
            "grid_template_columns": null,
            "grid_template_rows": null,
            "height": null,
            "justify_content": null,
            "justify_items": null,
            "left": null,
            "margin": null,
            "max_height": null,
            "max_width": null,
            "min_height": null,
            "min_width": null,
            "object_fit": null,
            "object_position": null,
            "order": null,
            "overflow": null,
            "overflow_x": null,
            "overflow_y": null,
            "padding": null,
            "right": null,
            "top": null,
            "visibility": null,
            "width": null
          }
        },
        "966c4cf58dc2450ca81ec43d156426c6": {
          "model_module": "@jupyter-widgets/base",
          "model_name": "LayoutModel",
          "model_module_version": "1.2.0",
          "state": {
            "_model_module": "@jupyter-widgets/base",
            "_model_module_version": "1.2.0",
            "_model_name": "LayoutModel",
            "_view_count": null,
            "_view_module": "@jupyter-widgets/base",
            "_view_module_version": "1.2.0",
            "_view_name": "LayoutView",
            "align_content": null,
            "align_items": null,
            "align_self": null,
            "border": null,
            "bottom": null,
            "display": null,
            "flex": null,
            "flex_flow": null,
            "grid_area": null,
            "grid_auto_columns": null,
            "grid_auto_flow": null,
            "grid_auto_rows": null,
            "grid_column": null,
            "grid_gap": null,
            "grid_row": null,
            "grid_template_areas": null,
            "grid_template_columns": null,
            "grid_template_rows": null,
            "height": null,
            "justify_content": null,
            "justify_items": null,
            "left": null,
            "margin": null,
            "max_height": null,
            "max_width": null,
            "min_height": null,
            "min_width": null,
            "object_fit": null,
            "object_position": null,
            "order": null,
            "overflow": null,
            "overflow_x": null,
            "overflow_y": null,
            "padding": null,
            "right": null,
            "top": null,
            "visibility": null,
            "width": null
          }
        },
        "c8bc177c2969430d90f035c290046dd7": {
          "model_module": "@jupyter-widgets/controls",
          "model_name": "DescriptionStyleModel",
          "model_module_version": "1.5.0",
          "state": {
            "_model_module": "@jupyter-widgets/controls",
            "_model_module_version": "1.5.0",
            "_model_name": "DescriptionStyleModel",
            "_view_count": null,
            "_view_module": "@jupyter-widgets/base",
            "_view_module_version": "1.2.0",
            "_view_name": "StyleView",
            "description_width": ""
          }
        },
        "2ee506ad2e3e45c58b606403cb7bb8a3": {
          "model_module": "@jupyter-widgets/base",
          "model_name": "LayoutModel",
          "model_module_version": "1.2.0",
          "state": {
            "_model_module": "@jupyter-widgets/base",
            "_model_module_version": "1.2.0",
            "_model_name": "LayoutModel",
            "_view_count": null,
            "_view_module": "@jupyter-widgets/base",
            "_view_module_version": "1.2.0",
            "_view_name": "LayoutView",
            "align_content": null,
            "align_items": null,
            "align_self": null,
            "border": null,
            "bottom": null,
            "display": null,
            "flex": null,
            "flex_flow": null,
            "grid_area": null,
            "grid_auto_columns": null,
            "grid_auto_flow": null,
            "grid_auto_rows": null,
            "grid_column": null,
            "grid_gap": null,
            "grid_row": null,
            "grid_template_areas": null,
            "grid_template_columns": null,
            "grid_template_rows": null,
            "height": null,
            "justify_content": null,
            "justify_items": null,
            "left": null,
            "margin": null,
            "max_height": null,
            "max_width": null,
            "min_height": null,
            "min_width": null,
            "object_fit": null,
            "object_position": null,
            "order": null,
            "overflow": null,
            "overflow_x": null,
            "overflow_y": null,
            "padding": null,
            "right": null,
            "top": null,
            "visibility": null,
            "width": null
          }
        },
        "2979badb71c847d68d10aeb9ff6844dd": {
          "model_module": "@jupyter-widgets/controls",
          "model_name": "ProgressStyleModel",
          "model_module_version": "1.5.0",
          "state": {
            "_model_module": "@jupyter-widgets/controls",
            "_model_module_version": "1.5.0",
            "_model_name": "ProgressStyleModel",
            "_view_count": null,
            "_view_module": "@jupyter-widgets/base",
            "_view_module_version": "1.2.0",
            "_view_name": "StyleView",
            "bar_color": null,
            "description_width": ""
          }
        },
        "85e05923673c4c6ca34bb6e6f7204eda": {
          "model_module": "@jupyter-widgets/base",
          "model_name": "LayoutModel",
          "model_module_version": "1.2.0",
          "state": {
            "_model_module": "@jupyter-widgets/base",
            "_model_module_version": "1.2.0",
            "_model_name": "LayoutModel",
            "_view_count": null,
            "_view_module": "@jupyter-widgets/base",
            "_view_module_version": "1.2.0",
            "_view_name": "LayoutView",
            "align_content": null,
            "align_items": null,
            "align_self": null,
            "border": null,
            "bottom": null,
            "display": null,
            "flex": null,
            "flex_flow": null,
            "grid_area": null,
            "grid_auto_columns": null,
            "grid_auto_flow": null,
            "grid_auto_rows": null,
            "grid_column": null,
            "grid_gap": null,
            "grid_row": null,
            "grid_template_areas": null,
            "grid_template_columns": null,
            "grid_template_rows": null,
            "height": null,
            "justify_content": null,
            "justify_items": null,
            "left": null,
            "margin": null,
            "max_height": null,
            "max_width": null,
            "min_height": null,
            "min_width": null,
            "object_fit": null,
            "object_position": null,
            "order": null,
            "overflow": null,
            "overflow_x": null,
            "overflow_y": null,
            "padding": null,
            "right": null,
            "top": null,
            "visibility": null,
            "width": null
          }
        },
        "dc4d70f4c7fd470c8d7c1b8c16b1eba3": {
          "model_module": "@jupyter-widgets/controls",
          "model_name": "DescriptionStyleModel",
          "model_module_version": "1.5.0",
          "state": {
            "_model_module": "@jupyter-widgets/controls",
            "_model_module_version": "1.5.0",
            "_model_name": "DescriptionStyleModel",
            "_view_count": null,
            "_view_module": "@jupyter-widgets/base",
            "_view_module_version": "1.2.0",
            "_view_name": "StyleView",
            "description_width": ""
          }
        },
        "a49dceec83f94c91b2b1d4804a032e13": {
          "model_module": "@jupyter-widgets/controls",
          "model_name": "HBoxModel",
          "model_module_version": "1.5.0",
          "state": {
            "_dom_classes": [],
            "_model_module": "@jupyter-widgets/controls",
            "_model_module_version": "1.5.0",
            "_model_name": "HBoxModel",
            "_view_count": null,
            "_view_module": "@jupyter-widgets/controls",
            "_view_module_version": "1.5.0",
            "_view_name": "HBoxView",
            "box_style": "",
            "children": [
              "IPY_MODEL_5874c837f29e437a9a83eb7f83c5f0c4",
              "IPY_MODEL_ed2415015b3e4449a6645cd07bb65855",
              "IPY_MODEL_be1b3594c82e458dac041b47420702e3"
            ],
            "layout": "IPY_MODEL_6bdbdd13be9e4743a1151edb74219676"
          }
        },
        "5874c837f29e437a9a83eb7f83c5f0c4": {
          "model_module": "@jupyter-widgets/controls",
          "model_name": "HTMLModel",
          "model_module_version": "1.5.0",
          "state": {
            "_dom_classes": [],
            "_model_module": "@jupyter-widgets/controls",
            "_model_module_version": "1.5.0",
            "_model_name": "HTMLModel",
            "_view_count": null,
            "_view_module": "@jupyter-widgets/controls",
            "_view_module_version": "1.5.0",
            "_view_name": "HTMLView",
            "description": "",
            "description_tooltip": null,
            "layout": "IPY_MODEL_042ee9d73df74c70946bd61d5cc3154e",
            "placeholder": "​",
            "style": "IPY_MODEL_8f5e6d08082e4508ab4f0c6351fab060",
            "value": "model.safetensors: 100%"
          }
        },
        "ed2415015b3e4449a6645cd07bb65855": {
          "model_module": "@jupyter-widgets/controls",
          "model_name": "FloatProgressModel",
          "model_module_version": "1.5.0",
          "state": {
            "_dom_classes": [],
            "_model_module": "@jupyter-widgets/controls",
            "_model_module_version": "1.5.0",
            "_model_name": "FloatProgressModel",
            "_view_count": null,
            "_view_module": "@jupyter-widgets/controls",
            "_view_module_version": "1.5.0",
            "_view_name": "ProgressView",
            "bar_style": "success",
            "description": "",
            "description_tooltip": null,
            "layout": "IPY_MODEL_d7025ded329f427cb4e11a6e373caa64",
            "max": 1625222120,
            "min": 0,
            "orientation": "horizontal",
            "style": "IPY_MODEL_3855ad57df3e4f178615e59f56ace67b",
            "value": 1625222120
          }
        },
        "be1b3594c82e458dac041b47420702e3": {
          "model_module": "@jupyter-widgets/controls",
          "model_name": "HTMLModel",
          "model_module_version": "1.5.0",
          "state": {
            "_dom_classes": [],
            "_model_module": "@jupyter-widgets/controls",
            "_model_module_version": "1.5.0",
            "_model_name": "HTMLModel",
            "_view_count": null,
            "_view_module": "@jupyter-widgets/controls",
            "_view_module_version": "1.5.0",
            "_view_name": "HTMLView",
            "description": "",
            "description_tooltip": null,
            "layout": "IPY_MODEL_ed8770067ed94232a86a8f6403ec4ef8",
            "placeholder": "​",
            "style": "IPY_MODEL_dd4dfc9f7f4a4bba970c5f09f2d7ebad",
            "value": " 1.63G/1.63G [00:19&lt;00:00, 83.4MB/s]"
          }
        },
        "6bdbdd13be9e4743a1151edb74219676": {
          "model_module": "@jupyter-widgets/base",
          "model_name": "LayoutModel",
          "model_module_version": "1.2.0",
          "state": {
            "_model_module": "@jupyter-widgets/base",
            "_model_module_version": "1.2.0",
            "_model_name": "LayoutModel",
            "_view_count": null,
            "_view_module": "@jupyter-widgets/base",
            "_view_module_version": "1.2.0",
            "_view_name": "LayoutView",
            "align_content": null,
            "align_items": null,
            "align_self": null,
            "border": null,
            "bottom": null,
            "display": null,
            "flex": null,
            "flex_flow": null,
            "grid_area": null,
            "grid_auto_columns": null,
            "grid_auto_flow": null,
            "grid_auto_rows": null,
            "grid_column": null,
            "grid_gap": null,
            "grid_row": null,
            "grid_template_areas": null,
            "grid_template_columns": null,
            "grid_template_rows": null,
            "height": null,
            "justify_content": null,
            "justify_items": null,
            "left": null,
            "margin": null,
            "max_height": null,
            "max_width": null,
            "min_height": null,
            "min_width": null,
            "object_fit": null,
            "object_position": null,
            "order": null,
            "overflow": null,
            "overflow_x": null,
            "overflow_y": null,
            "padding": null,
            "right": null,
            "top": null,
            "visibility": null,
            "width": null
          }
        },
        "042ee9d73df74c70946bd61d5cc3154e": {
          "model_module": "@jupyter-widgets/base",
          "model_name": "LayoutModel",
          "model_module_version": "1.2.0",
          "state": {
            "_model_module": "@jupyter-widgets/base",
            "_model_module_version": "1.2.0",
            "_model_name": "LayoutModel",
            "_view_count": null,
            "_view_module": "@jupyter-widgets/base",
            "_view_module_version": "1.2.0",
            "_view_name": "LayoutView",
            "align_content": null,
            "align_items": null,
            "align_self": null,
            "border": null,
            "bottom": null,
            "display": null,
            "flex": null,
            "flex_flow": null,
            "grid_area": null,
            "grid_auto_columns": null,
            "grid_auto_flow": null,
            "grid_auto_rows": null,
            "grid_column": null,
            "grid_gap": null,
            "grid_row": null,
            "grid_template_areas": null,
            "grid_template_columns": null,
            "grid_template_rows": null,
            "height": null,
            "justify_content": null,
            "justify_items": null,
            "left": null,
            "margin": null,
            "max_height": null,
            "max_width": null,
            "min_height": null,
            "min_width": null,
            "object_fit": null,
            "object_position": null,
            "order": null,
            "overflow": null,
            "overflow_x": null,
            "overflow_y": null,
            "padding": null,
            "right": null,
            "top": null,
            "visibility": null,
            "width": null
          }
        },
        "8f5e6d08082e4508ab4f0c6351fab060": {
          "model_module": "@jupyter-widgets/controls",
          "model_name": "DescriptionStyleModel",
          "model_module_version": "1.5.0",
          "state": {
            "_model_module": "@jupyter-widgets/controls",
            "_model_module_version": "1.5.0",
            "_model_name": "DescriptionStyleModel",
            "_view_count": null,
            "_view_module": "@jupyter-widgets/base",
            "_view_module_version": "1.2.0",
            "_view_name": "StyleView",
            "description_width": ""
          }
        },
        "d7025ded329f427cb4e11a6e373caa64": {
          "model_module": "@jupyter-widgets/base",
          "model_name": "LayoutModel",
          "model_module_version": "1.2.0",
          "state": {
            "_model_module": "@jupyter-widgets/base",
            "_model_module_version": "1.2.0",
            "_model_name": "LayoutModel",
            "_view_count": null,
            "_view_module": "@jupyter-widgets/base",
            "_view_module_version": "1.2.0",
            "_view_name": "LayoutView",
            "align_content": null,
            "align_items": null,
            "align_self": null,
            "border": null,
            "bottom": null,
            "display": null,
            "flex": null,
            "flex_flow": null,
            "grid_area": null,
            "grid_auto_columns": null,
            "grid_auto_flow": null,
            "grid_auto_rows": null,
            "grid_column": null,
            "grid_gap": null,
            "grid_row": null,
            "grid_template_areas": null,
            "grid_template_columns": null,
            "grid_template_rows": null,
            "height": null,
            "justify_content": null,
            "justify_items": null,
            "left": null,
            "margin": null,
            "max_height": null,
            "max_width": null,
            "min_height": null,
            "min_width": null,
            "object_fit": null,
            "object_position": null,
            "order": null,
            "overflow": null,
            "overflow_x": null,
            "overflow_y": null,
            "padding": null,
            "right": null,
            "top": null,
            "visibility": null,
            "width": null
          }
        },
        "3855ad57df3e4f178615e59f56ace67b": {
          "model_module": "@jupyter-widgets/controls",
          "model_name": "ProgressStyleModel",
          "model_module_version": "1.5.0",
          "state": {
            "_model_module": "@jupyter-widgets/controls",
            "_model_module_version": "1.5.0",
            "_model_name": "ProgressStyleModel",
            "_view_count": null,
            "_view_module": "@jupyter-widgets/base",
            "_view_module_version": "1.2.0",
            "_view_name": "StyleView",
            "bar_color": null,
            "description_width": ""
          }
        },
        "ed8770067ed94232a86a8f6403ec4ef8": {
          "model_module": "@jupyter-widgets/base",
          "model_name": "LayoutModel",
          "model_module_version": "1.2.0",
          "state": {
            "_model_module": "@jupyter-widgets/base",
            "_model_module_version": "1.2.0",
            "_model_name": "LayoutModel",
            "_view_count": null,
            "_view_module": "@jupyter-widgets/base",
            "_view_module_version": "1.2.0",
            "_view_name": "LayoutView",
            "align_content": null,
            "align_items": null,
            "align_self": null,
            "border": null,
            "bottom": null,
            "display": null,
            "flex": null,
            "flex_flow": null,
            "grid_area": null,
            "grid_auto_columns": null,
            "grid_auto_flow": null,
            "grid_auto_rows": null,
            "grid_column": null,
            "grid_gap": null,
            "grid_row": null,
            "grid_template_areas": null,
            "grid_template_columns": null,
            "grid_template_rows": null,
            "height": null,
            "justify_content": null,
            "justify_items": null,
            "left": null,
            "margin": null,
            "max_height": null,
            "max_width": null,
            "min_height": null,
            "min_width": null,
            "object_fit": null,
            "object_position": null,
            "order": null,
            "overflow": null,
            "overflow_x": null,
            "overflow_y": null,
            "padding": null,
            "right": null,
            "top": null,
            "visibility": null,
            "width": null
          }
        },
        "dd4dfc9f7f4a4bba970c5f09f2d7ebad": {
          "model_module": "@jupyter-widgets/controls",
          "model_name": "DescriptionStyleModel",
          "model_module_version": "1.5.0",
          "state": {
            "_model_module": "@jupyter-widgets/controls",
            "_model_module_version": "1.5.0",
            "_model_name": "DescriptionStyleModel",
            "_view_count": null,
            "_view_module": "@jupyter-widgets/base",
            "_view_module_version": "1.2.0",
            "_view_name": "StyleView",
            "description_width": ""
          }
        },
        "101d87087d2a4b21a7cd4fc5a794e516": {
          "model_module": "@jupyter-widgets/controls",
          "model_name": "HBoxModel",
          "model_module_version": "1.5.0",
          "state": {
            "_dom_classes": [],
            "_model_module": "@jupyter-widgets/controls",
            "_model_module_version": "1.5.0",
            "_model_name": "HBoxModel",
            "_view_count": null,
            "_view_module": "@jupyter-widgets/controls",
            "_view_module_version": "1.5.0",
            "_view_name": "HBoxView",
            "box_style": "",
            "children": [
              "IPY_MODEL_7e498e50fef049678a6a672047a64bd3",
              "IPY_MODEL_7883ec44609a43ff893bd1bcdf293688",
              "IPY_MODEL_251a3e08c7eb42de8ff29b53afeb698f"
            ],
            "layout": "IPY_MODEL_3466b28293264a548cf419921e2c11f2"
          }
        },
        "7e498e50fef049678a6a672047a64bd3": {
          "model_module": "@jupyter-widgets/controls",
          "model_name": "HTMLModel",
          "model_module_version": "1.5.0",
          "state": {
            "_dom_classes": [],
            "_model_module": "@jupyter-widgets/controls",
            "_model_module_version": "1.5.0",
            "_model_name": "HTMLModel",
            "_view_count": null,
            "_view_module": "@jupyter-widgets/controls",
            "_view_module_version": "1.5.0",
            "_view_name": "HTMLView",
            "description": "",
            "description_tooltip": null,
            "layout": "IPY_MODEL_f76e70323551482e95f316f3fd32c34f",
            "placeholder": "​",
            "style": "IPY_MODEL_ee6a498d593d44849d9044933304d355",
            "value": "generation_config.json: 100%"
          }
        },
        "7883ec44609a43ff893bd1bcdf293688": {
          "model_module": "@jupyter-widgets/controls",
          "model_name": "FloatProgressModel",
          "model_module_version": "1.5.0",
          "state": {
            "_dom_classes": [],
            "_model_module": "@jupyter-widgets/controls",
            "_model_module_version": "1.5.0",
            "_model_name": "FloatProgressModel",
            "_view_count": null,
            "_view_module": "@jupyter-widgets/controls",
            "_view_module_version": "1.5.0",
            "_view_name": "ProgressView",
            "bar_style": "success",
            "description": "",
            "description_tooltip": null,
            "layout": "IPY_MODEL_dbbe39c8e79c42229cee5c71d8b1053b",
            "max": 363,
            "min": 0,
            "orientation": "horizontal",
            "style": "IPY_MODEL_f032801e8c854fca8857d3ec246f540b",
            "value": 363
          }
        },
        "251a3e08c7eb42de8ff29b53afeb698f": {
          "model_module": "@jupyter-widgets/controls",
          "model_name": "HTMLModel",
          "model_module_version": "1.5.0",
          "state": {
            "_dom_classes": [],
            "_model_module": "@jupyter-widgets/controls",
            "_model_module_version": "1.5.0",
            "_model_name": "HTMLModel",
            "_view_count": null,
            "_view_module": "@jupyter-widgets/controls",
            "_view_module_version": "1.5.0",
            "_view_name": "HTMLView",
            "description": "",
            "description_tooltip": null,
            "layout": "IPY_MODEL_8cdec53a41ea4040b9073868197bf6d6",
            "placeholder": "​",
            "style": "IPY_MODEL_831482b9511742eeae288eaf621842d3",
            "value": " 363/363 [00:00&lt;00:00, 15.3kB/s]"
          }
        },
        "3466b28293264a548cf419921e2c11f2": {
          "model_module": "@jupyter-widgets/base",
          "model_name": "LayoutModel",
          "model_module_version": "1.2.0",
          "state": {
            "_model_module": "@jupyter-widgets/base",
            "_model_module_version": "1.2.0",
            "_model_name": "LayoutModel",
            "_view_count": null,
            "_view_module": "@jupyter-widgets/base",
            "_view_module_version": "1.2.0",
            "_view_name": "LayoutView",
            "align_content": null,
            "align_items": null,
            "align_self": null,
            "border": null,
            "bottom": null,
            "display": null,
            "flex": null,
            "flex_flow": null,
            "grid_area": null,
            "grid_auto_columns": null,
            "grid_auto_flow": null,
            "grid_auto_rows": null,
            "grid_column": null,
            "grid_gap": null,
            "grid_row": null,
            "grid_template_areas": null,
            "grid_template_columns": null,
            "grid_template_rows": null,
            "height": null,
            "justify_content": null,
            "justify_items": null,
            "left": null,
            "margin": null,
            "max_height": null,
            "max_width": null,
            "min_height": null,
            "min_width": null,
            "object_fit": null,
            "object_position": null,
            "order": null,
            "overflow": null,
            "overflow_x": null,
            "overflow_y": null,
            "padding": null,
            "right": null,
            "top": null,
            "visibility": null,
            "width": null
          }
        },
        "f76e70323551482e95f316f3fd32c34f": {
          "model_module": "@jupyter-widgets/base",
          "model_name": "LayoutModel",
          "model_module_version": "1.2.0",
          "state": {
            "_model_module": "@jupyter-widgets/base",
            "_model_module_version": "1.2.0",
            "_model_name": "LayoutModel",
            "_view_count": null,
            "_view_module": "@jupyter-widgets/base",
            "_view_module_version": "1.2.0",
            "_view_name": "LayoutView",
            "align_content": null,
            "align_items": null,
            "align_self": null,
            "border": null,
            "bottom": null,
            "display": null,
            "flex": null,
            "flex_flow": null,
            "grid_area": null,
            "grid_auto_columns": null,
            "grid_auto_flow": null,
            "grid_auto_rows": null,
            "grid_column": null,
            "grid_gap": null,
            "grid_row": null,
            "grid_template_areas": null,
            "grid_template_columns": null,
            "grid_template_rows": null,
            "height": null,
            "justify_content": null,
            "justify_items": null,
            "left": null,
            "margin": null,
            "max_height": null,
            "max_width": null,
            "min_height": null,
            "min_width": null,
            "object_fit": null,
            "object_position": null,
            "order": null,
            "overflow": null,
            "overflow_x": null,
            "overflow_y": null,
            "padding": null,
            "right": null,
            "top": null,
            "visibility": null,
            "width": null
          }
        },
        "ee6a498d593d44849d9044933304d355": {
          "model_module": "@jupyter-widgets/controls",
          "model_name": "DescriptionStyleModel",
          "model_module_version": "1.5.0",
          "state": {
            "_model_module": "@jupyter-widgets/controls",
            "_model_module_version": "1.5.0",
            "_model_name": "DescriptionStyleModel",
            "_view_count": null,
            "_view_module": "@jupyter-widgets/base",
            "_view_module_version": "1.2.0",
            "_view_name": "StyleView",
            "description_width": ""
          }
        },
        "dbbe39c8e79c42229cee5c71d8b1053b": {
          "model_module": "@jupyter-widgets/base",
          "model_name": "LayoutModel",
          "model_module_version": "1.2.0",
          "state": {
            "_model_module": "@jupyter-widgets/base",
            "_model_module_version": "1.2.0",
            "_model_name": "LayoutModel",
            "_view_count": null,
            "_view_module": "@jupyter-widgets/base",
            "_view_module_version": "1.2.0",
            "_view_name": "LayoutView",
            "align_content": null,
            "align_items": null,
            "align_self": null,
            "border": null,
            "bottom": null,
            "display": null,
            "flex": null,
            "flex_flow": null,
            "grid_area": null,
            "grid_auto_columns": null,
            "grid_auto_flow": null,
            "grid_auto_rows": null,
            "grid_column": null,
            "grid_gap": null,
            "grid_row": null,
            "grid_template_areas": null,
            "grid_template_columns": null,
            "grid_template_rows": null,
            "height": null,
            "justify_content": null,
            "justify_items": null,
            "left": null,
            "margin": null,
            "max_height": null,
            "max_width": null,
            "min_height": null,
            "min_width": null,
            "object_fit": null,
            "object_position": null,
            "order": null,
            "overflow": null,
            "overflow_x": null,
            "overflow_y": null,
            "padding": null,
            "right": null,
            "top": null,
            "visibility": null,
            "width": null
          }
        },
        "f032801e8c854fca8857d3ec246f540b": {
          "model_module": "@jupyter-widgets/controls",
          "model_name": "ProgressStyleModel",
          "model_module_version": "1.5.0",
          "state": {
            "_model_module": "@jupyter-widgets/controls",
            "_model_module_version": "1.5.0",
            "_model_name": "ProgressStyleModel",
            "_view_count": null,
            "_view_module": "@jupyter-widgets/base",
            "_view_module_version": "1.2.0",
            "_view_name": "StyleView",
            "bar_color": null,
            "description_width": ""
          }
        },
        "8cdec53a41ea4040b9073868197bf6d6": {
          "model_module": "@jupyter-widgets/base",
          "model_name": "LayoutModel",
          "model_module_version": "1.2.0",
          "state": {
            "_model_module": "@jupyter-widgets/base",
            "_model_module_version": "1.2.0",
            "_model_name": "LayoutModel",
            "_view_count": null,
            "_view_module": "@jupyter-widgets/base",
            "_view_module_version": "1.2.0",
            "_view_name": "LayoutView",
            "align_content": null,
            "align_items": null,
            "align_self": null,
            "border": null,
            "bottom": null,
            "display": null,
            "flex": null,
            "flex_flow": null,
            "grid_area": null,
            "grid_auto_columns": null,
            "grid_auto_flow": null,
            "grid_auto_rows": null,
            "grid_column": null,
            "grid_gap": null,
            "grid_row": null,
            "grid_template_areas": null,
            "grid_template_columns": null,
            "grid_template_rows": null,
            "height": null,
            "justify_content": null,
            "justify_items": null,
            "left": null,
            "margin": null,
            "max_height": null,
            "max_width": null,
            "min_height": null,
            "min_width": null,
            "object_fit": null,
            "object_position": null,
            "order": null,
            "overflow": null,
            "overflow_x": null,
            "overflow_y": null,
            "padding": null,
            "right": null,
            "top": null,
            "visibility": null,
            "width": null
          }
        },
        "831482b9511742eeae288eaf621842d3": {
          "model_module": "@jupyter-widgets/controls",
          "model_name": "DescriptionStyleModel",
          "model_module_version": "1.5.0",
          "state": {
            "_model_module": "@jupyter-widgets/controls",
            "_model_module_version": "1.5.0",
            "_model_name": "DescriptionStyleModel",
            "_view_count": null,
            "_view_module": "@jupyter-widgets/base",
            "_view_module_version": "1.2.0",
            "_view_name": "StyleView",
            "description_width": ""
          }
        },
        "cbc40a8ffc5d41339481dcdbd6c05bc9": {
          "model_module": "@jupyter-widgets/controls",
          "model_name": "HBoxModel",
          "model_module_version": "1.5.0",
          "state": {
            "_dom_classes": [],
            "_model_module": "@jupyter-widgets/controls",
            "_model_module_version": "1.5.0",
            "_model_name": "HBoxModel",
            "_view_count": null,
            "_view_module": "@jupyter-widgets/controls",
            "_view_module_version": "1.5.0",
            "_view_name": "HBoxView",
            "box_style": "",
            "children": [
              "IPY_MODEL_6ccb98d7c7734e909d7cf9d80adf0378",
              "IPY_MODEL_b4f46bb1792e495fa0bc072e9a48e9d0",
              "IPY_MODEL_105eca7a53c74f0ca9f051b4be46aa8c"
            ],
            "layout": "IPY_MODEL_757bca87f9a34a7391a845eaea43bcd6"
          }
        },
        "6ccb98d7c7734e909d7cf9d80adf0378": {
          "model_module": "@jupyter-widgets/controls",
          "model_name": "HTMLModel",
          "model_module_version": "1.5.0",
          "state": {
            "_dom_classes": [],
            "_model_module": "@jupyter-widgets/controls",
            "_model_module_version": "1.5.0",
            "_model_name": "HTMLModel",
            "_view_count": null,
            "_view_module": "@jupyter-widgets/controls",
            "_view_module_version": "1.5.0",
            "_view_name": "HTMLView",
            "description": "",
            "description_tooltip": null,
            "layout": "IPY_MODEL_3c686c5e58854ecb976622ab58e09818",
            "placeholder": "​",
            "style": "IPY_MODEL_90d33752f50d4b19b9a99e62b82760ac",
            "value": "vocab.json: 100%"
          }
        },
        "b4f46bb1792e495fa0bc072e9a48e9d0": {
          "model_module": "@jupyter-widgets/controls",
          "model_name": "FloatProgressModel",
          "model_module_version": "1.5.0",
          "state": {
            "_dom_classes": [],
            "_model_module": "@jupyter-widgets/controls",
            "_model_module_version": "1.5.0",
            "_model_name": "FloatProgressModel",
            "_view_count": null,
            "_view_module": "@jupyter-widgets/controls",
            "_view_module_version": "1.5.0",
            "_view_name": "ProgressView",
            "bar_style": "success",
            "description": "",
            "description_tooltip": null,
            "layout": "IPY_MODEL_724dcb32ff6346918e523af73a5a3162",
            "max": 898823,
            "min": 0,
            "orientation": "horizontal",
            "style": "IPY_MODEL_fdb1df7b4ab647278ccede4be18db3de",
            "value": 898823
          }
        },
        "105eca7a53c74f0ca9f051b4be46aa8c": {
          "model_module": "@jupyter-widgets/controls",
          "model_name": "HTMLModel",
          "model_module_version": "1.5.0",
          "state": {
            "_dom_classes": [],
            "_model_module": "@jupyter-widgets/controls",
            "_model_module_version": "1.5.0",
            "_model_name": "HTMLModel",
            "_view_count": null,
            "_view_module": "@jupyter-widgets/controls",
            "_view_module_version": "1.5.0",
            "_view_name": "HTMLView",
            "description": "",
            "description_tooltip": null,
            "layout": "IPY_MODEL_d3ae9b238b0643928a14f49b5ce826a1",
            "placeholder": "​",
            "style": "IPY_MODEL_4074bd270fc0447bad2c32076b178ed7",
            "value": " 899k/899k [00:00&lt;00:00, 1.40MB/s]"
          }
        },
        "757bca87f9a34a7391a845eaea43bcd6": {
          "model_module": "@jupyter-widgets/base",
          "model_name": "LayoutModel",
          "model_module_version": "1.2.0",
          "state": {
            "_model_module": "@jupyter-widgets/base",
            "_model_module_version": "1.2.0",
            "_model_name": "LayoutModel",
            "_view_count": null,
            "_view_module": "@jupyter-widgets/base",
            "_view_module_version": "1.2.0",
            "_view_name": "LayoutView",
            "align_content": null,
            "align_items": null,
            "align_self": null,
            "border": null,
            "bottom": null,
            "display": null,
            "flex": null,
            "flex_flow": null,
            "grid_area": null,
            "grid_auto_columns": null,
            "grid_auto_flow": null,
            "grid_auto_rows": null,
            "grid_column": null,
            "grid_gap": null,
            "grid_row": null,
            "grid_template_areas": null,
            "grid_template_columns": null,
            "grid_template_rows": null,
            "height": null,
            "justify_content": null,
            "justify_items": null,
            "left": null,
            "margin": null,
            "max_height": null,
            "max_width": null,
            "min_height": null,
            "min_width": null,
            "object_fit": null,
            "object_position": null,
            "order": null,
            "overflow": null,
            "overflow_x": null,
            "overflow_y": null,
            "padding": null,
            "right": null,
            "top": null,
            "visibility": null,
            "width": null
          }
        },
        "3c686c5e58854ecb976622ab58e09818": {
          "model_module": "@jupyter-widgets/base",
          "model_name": "LayoutModel",
          "model_module_version": "1.2.0",
          "state": {
            "_model_module": "@jupyter-widgets/base",
            "_model_module_version": "1.2.0",
            "_model_name": "LayoutModel",
            "_view_count": null,
            "_view_module": "@jupyter-widgets/base",
            "_view_module_version": "1.2.0",
            "_view_name": "LayoutView",
            "align_content": null,
            "align_items": null,
            "align_self": null,
            "border": null,
            "bottom": null,
            "display": null,
            "flex": null,
            "flex_flow": null,
            "grid_area": null,
            "grid_auto_columns": null,
            "grid_auto_flow": null,
            "grid_auto_rows": null,
            "grid_column": null,
            "grid_gap": null,
            "grid_row": null,
            "grid_template_areas": null,
            "grid_template_columns": null,
            "grid_template_rows": null,
            "height": null,
            "justify_content": null,
            "justify_items": null,
            "left": null,
            "margin": null,
            "max_height": null,
            "max_width": null,
            "min_height": null,
            "min_width": null,
            "object_fit": null,
            "object_position": null,
            "order": null,
            "overflow": null,
            "overflow_x": null,
            "overflow_y": null,
            "padding": null,
            "right": null,
            "top": null,
            "visibility": null,
            "width": null
          }
        },
        "90d33752f50d4b19b9a99e62b82760ac": {
          "model_module": "@jupyter-widgets/controls",
          "model_name": "DescriptionStyleModel",
          "model_module_version": "1.5.0",
          "state": {
            "_model_module": "@jupyter-widgets/controls",
            "_model_module_version": "1.5.0",
            "_model_name": "DescriptionStyleModel",
            "_view_count": null,
            "_view_module": "@jupyter-widgets/base",
            "_view_module_version": "1.2.0",
            "_view_name": "StyleView",
            "description_width": ""
          }
        },
        "724dcb32ff6346918e523af73a5a3162": {
          "model_module": "@jupyter-widgets/base",
          "model_name": "LayoutModel",
          "model_module_version": "1.2.0",
          "state": {
            "_model_module": "@jupyter-widgets/base",
            "_model_module_version": "1.2.0",
            "_model_name": "LayoutModel",
            "_view_count": null,
            "_view_module": "@jupyter-widgets/base",
            "_view_module_version": "1.2.0",
            "_view_name": "LayoutView",
            "align_content": null,
            "align_items": null,
            "align_self": null,
            "border": null,
            "bottom": null,
            "display": null,
            "flex": null,
            "flex_flow": null,
            "grid_area": null,
            "grid_auto_columns": null,
            "grid_auto_flow": null,
            "grid_auto_rows": null,
            "grid_column": null,
            "grid_gap": null,
            "grid_row": null,
            "grid_template_areas": null,
            "grid_template_columns": null,
            "grid_template_rows": null,
            "height": null,
            "justify_content": null,
            "justify_items": null,
            "left": null,
            "margin": null,
            "max_height": null,
            "max_width": null,
            "min_height": null,
            "min_width": null,
            "object_fit": null,
            "object_position": null,
            "order": null,
            "overflow": null,
            "overflow_x": null,
            "overflow_y": null,
            "padding": null,
            "right": null,
            "top": null,
            "visibility": null,
            "width": null
          }
        },
        "fdb1df7b4ab647278ccede4be18db3de": {
          "model_module": "@jupyter-widgets/controls",
          "model_name": "ProgressStyleModel",
          "model_module_version": "1.5.0",
          "state": {
            "_model_module": "@jupyter-widgets/controls",
            "_model_module_version": "1.5.0",
            "_model_name": "ProgressStyleModel",
            "_view_count": null,
            "_view_module": "@jupyter-widgets/base",
            "_view_module_version": "1.2.0",
            "_view_name": "StyleView",
            "bar_color": null,
            "description_width": ""
          }
        },
        "d3ae9b238b0643928a14f49b5ce826a1": {
          "model_module": "@jupyter-widgets/base",
          "model_name": "LayoutModel",
          "model_module_version": "1.2.0",
          "state": {
            "_model_module": "@jupyter-widgets/base",
            "_model_module_version": "1.2.0",
            "_model_name": "LayoutModel",
            "_view_count": null,
            "_view_module": "@jupyter-widgets/base",
            "_view_module_version": "1.2.0",
            "_view_name": "LayoutView",
            "align_content": null,
            "align_items": null,
            "align_self": null,
            "border": null,
            "bottom": null,
            "display": null,
            "flex": null,
            "flex_flow": null,
            "grid_area": null,
            "grid_auto_columns": null,
            "grid_auto_flow": null,
            "grid_auto_rows": null,
            "grid_column": null,
            "grid_gap": null,
            "grid_row": null,
            "grid_template_areas": null,
            "grid_template_columns": null,
            "grid_template_rows": null,
            "height": null,
            "justify_content": null,
            "justify_items": null,
            "left": null,
            "margin": null,
            "max_height": null,
            "max_width": null,
            "min_height": null,
            "min_width": null,
            "object_fit": null,
            "object_position": null,
            "order": null,
            "overflow": null,
            "overflow_x": null,
            "overflow_y": null,
            "padding": null,
            "right": null,
            "top": null,
            "visibility": null,
            "width": null
          }
        },
        "4074bd270fc0447bad2c32076b178ed7": {
          "model_module": "@jupyter-widgets/controls",
          "model_name": "DescriptionStyleModel",
          "model_module_version": "1.5.0",
          "state": {
            "_model_module": "@jupyter-widgets/controls",
            "_model_module_version": "1.5.0",
            "_model_name": "DescriptionStyleModel",
            "_view_count": null,
            "_view_module": "@jupyter-widgets/base",
            "_view_module_version": "1.2.0",
            "_view_name": "StyleView",
            "description_width": ""
          }
        },
        "75f04f71a1024b17a8738d2f726cab12": {
          "model_module": "@jupyter-widgets/controls",
          "model_name": "HBoxModel",
          "model_module_version": "1.5.0",
          "state": {
            "_dom_classes": [],
            "_model_module": "@jupyter-widgets/controls",
            "_model_module_version": "1.5.0",
            "_model_name": "HBoxModel",
            "_view_count": null,
            "_view_module": "@jupyter-widgets/controls",
            "_view_module_version": "1.5.0",
            "_view_name": "HBoxView",
            "box_style": "",
            "children": [
              "IPY_MODEL_0d506143d0494ec3b7951d7cc458db20",
              "IPY_MODEL_1a03489d210347fd8f00591b1482bab4",
              "IPY_MODEL_273282af829649989fbb9337bbbb49d8"
            ],
            "layout": "IPY_MODEL_7c6e7c1ea8514c39be0f393226e76581"
          }
        },
        "0d506143d0494ec3b7951d7cc458db20": {
          "model_module": "@jupyter-widgets/controls",
          "model_name": "HTMLModel",
          "model_module_version": "1.5.0",
          "state": {
            "_dom_classes": [],
            "_model_module": "@jupyter-widgets/controls",
            "_model_module_version": "1.5.0",
            "_model_name": "HTMLModel",
            "_view_count": null,
            "_view_module": "@jupyter-widgets/controls",
            "_view_module_version": "1.5.0",
            "_view_name": "HTMLView",
            "description": "",
            "description_tooltip": null,
            "layout": "IPY_MODEL_68b3e153322b401d9431a9b282b478e4",
            "placeholder": "​",
            "style": "IPY_MODEL_796ba176b753457eb279807a8f9c399c",
            "value": "merges.txt: 100%"
          }
        },
        "1a03489d210347fd8f00591b1482bab4": {
          "model_module": "@jupyter-widgets/controls",
          "model_name": "FloatProgressModel",
          "model_module_version": "1.5.0",
          "state": {
            "_dom_classes": [],
            "_model_module": "@jupyter-widgets/controls",
            "_model_module_version": "1.5.0",
            "_model_name": "FloatProgressModel",
            "_view_count": null,
            "_view_module": "@jupyter-widgets/controls",
            "_view_module_version": "1.5.0",
            "_view_name": "ProgressView",
            "bar_style": "success",
            "description": "",
            "description_tooltip": null,
            "layout": "IPY_MODEL_ba13ad729dc34b33a2ced006eb6ad0bc",
            "max": 456318,
            "min": 0,
            "orientation": "horizontal",
            "style": "IPY_MODEL_bce3407495fb401d9ca62a8ab769db35",
            "value": 456318
          }
        },
        "273282af829649989fbb9337bbbb49d8": {
          "model_module": "@jupyter-widgets/controls",
          "model_name": "HTMLModel",
          "model_module_version": "1.5.0",
          "state": {
            "_dom_classes": [],
            "_model_module": "@jupyter-widgets/controls",
            "_model_module_version": "1.5.0",
            "_model_name": "HTMLModel",
            "_view_count": null,
            "_view_module": "@jupyter-widgets/controls",
            "_view_module_version": "1.5.0",
            "_view_name": "HTMLView",
            "description": "",
            "description_tooltip": null,
            "layout": "IPY_MODEL_89e5a414d3cf4be4ac9ed4f13a561b82",
            "placeholder": "​",
            "style": "IPY_MODEL_480bd06bf8f748f1b38c4f8963e313f9",
            "value": " 456k/456k [00:00&lt;00:00, 21.5MB/s]"
          }
        },
        "7c6e7c1ea8514c39be0f393226e76581": {
          "model_module": "@jupyter-widgets/base",
          "model_name": "LayoutModel",
          "model_module_version": "1.2.0",
          "state": {
            "_model_module": "@jupyter-widgets/base",
            "_model_module_version": "1.2.0",
            "_model_name": "LayoutModel",
            "_view_count": null,
            "_view_module": "@jupyter-widgets/base",
            "_view_module_version": "1.2.0",
            "_view_name": "LayoutView",
            "align_content": null,
            "align_items": null,
            "align_self": null,
            "border": null,
            "bottom": null,
            "display": null,
            "flex": null,
            "flex_flow": null,
            "grid_area": null,
            "grid_auto_columns": null,
            "grid_auto_flow": null,
            "grid_auto_rows": null,
            "grid_column": null,
            "grid_gap": null,
            "grid_row": null,
            "grid_template_areas": null,
            "grid_template_columns": null,
            "grid_template_rows": null,
            "height": null,
            "justify_content": null,
            "justify_items": null,
            "left": null,
            "margin": null,
            "max_height": null,
            "max_width": null,
            "min_height": null,
            "min_width": null,
            "object_fit": null,
            "object_position": null,
            "order": null,
            "overflow": null,
            "overflow_x": null,
            "overflow_y": null,
            "padding": null,
            "right": null,
            "top": null,
            "visibility": null,
            "width": null
          }
        },
        "68b3e153322b401d9431a9b282b478e4": {
          "model_module": "@jupyter-widgets/base",
          "model_name": "LayoutModel",
          "model_module_version": "1.2.0",
          "state": {
            "_model_module": "@jupyter-widgets/base",
            "_model_module_version": "1.2.0",
            "_model_name": "LayoutModel",
            "_view_count": null,
            "_view_module": "@jupyter-widgets/base",
            "_view_module_version": "1.2.0",
            "_view_name": "LayoutView",
            "align_content": null,
            "align_items": null,
            "align_self": null,
            "border": null,
            "bottom": null,
            "display": null,
            "flex": null,
            "flex_flow": null,
            "grid_area": null,
            "grid_auto_columns": null,
            "grid_auto_flow": null,
            "grid_auto_rows": null,
            "grid_column": null,
            "grid_gap": null,
            "grid_row": null,
            "grid_template_areas": null,
            "grid_template_columns": null,
            "grid_template_rows": null,
            "height": null,
            "justify_content": null,
            "justify_items": null,
            "left": null,
            "margin": null,
            "max_height": null,
            "max_width": null,
            "min_height": null,
            "min_width": null,
            "object_fit": null,
            "object_position": null,
            "order": null,
            "overflow": null,
            "overflow_x": null,
            "overflow_y": null,
            "padding": null,
            "right": null,
            "top": null,
            "visibility": null,
            "width": null
          }
        },
        "796ba176b753457eb279807a8f9c399c": {
          "model_module": "@jupyter-widgets/controls",
          "model_name": "DescriptionStyleModel",
          "model_module_version": "1.5.0",
          "state": {
            "_model_module": "@jupyter-widgets/controls",
            "_model_module_version": "1.5.0",
            "_model_name": "DescriptionStyleModel",
            "_view_count": null,
            "_view_module": "@jupyter-widgets/base",
            "_view_module_version": "1.2.0",
            "_view_name": "StyleView",
            "description_width": ""
          }
        },
        "ba13ad729dc34b33a2ced006eb6ad0bc": {
          "model_module": "@jupyter-widgets/base",
          "model_name": "LayoutModel",
          "model_module_version": "1.2.0",
          "state": {
            "_model_module": "@jupyter-widgets/base",
            "_model_module_version": "1.2.0",
            "_model_name": "LayoutModel",
            "_view_count": null,
            "_view_module": "@jupyter-widgets/base",
            "_view_module_version": "1.2.0",
            "_view_name": "LayoutView",
            "align_content": null,
            "align_items": null,
            "align_self": null,
            "border": null,
            "bottom": null,
            "display": null,
            "flex": null,
            "flex_flow": null,
            "grid_area": null,
            "grid_auto_columns": null,
            "grid_auto_flow": null,
            "grid_auto_rows": null,
            "grid_column": null,
            "grid_gap": null,
            "grid_row": null,
            "grid_template_areas": null,
            "grid_template_columns": null,
            "grid_template_rows": null,
            "height": null,
            "justify_content": null,
            "justify_items": null,
            "left": null,
            "margin": null,
            "max_height": null,
            "max_width": null,
            "min_height": null,
            "min_width": null,
            "object_fit": null,
            "object_position": null,
            "order": null,
            "overflow": null,
            "overflow_x": null,
            "overflow_y": null,
            "padding": null,
            "right": null,
            "top": null,
            "visibility": null,
            "width": null
          }
        },
        "bce3407495fb401d9ca62a8ab769db35": {
          "model_module": "@jupyter-widgets/controls",
          "model_name": "ProgressStyleModel",
          "model_module_version": "1.5.0",
          "state": {
            "_model_module": "@jupyter-widgets/controls",
            "_model_module_version": "1.5.0",
            "_model_name": "ProgressStyleModel",
            "_view_count": null,
            "_view_module": "@jupyter-widgets/base",
            "_view_module_version": "1.2.0",
            "_view_name": "StyleView",
            "bar_color": null,
            "description_width": ""
          }
        },
        "89e5a414d3cf4be4ac9ed4f13a561b82": {
          "model_module": "@jupyter-widgets/base",
          "model_name": "LayoutModel",
          "model_module_version": "1.2.0",
          "state": {
            "_model_module": "@jupyter-widgets/base",
            "_model_module_version": "1.2.0",
            "_model_name": "LayoutModel",
            "_view_count": null,
            "_view_module": "@jupyter-widgets/base",
            "_view_module_version": "1.2.0",
            "_view_name": "LayoutView",
            "align_content": null,
            "align_items": null,
            "align_self": null,
            "border": null,
            "bottom": null,
            "display": null,
            "flex": null,
            "flex_flow": null,
            "grid_area": null,
            "grid_auto_columns": null,
            "grid_auto_flow": null,
            "grid_auto_rows": null,
            "grid_column": null,
            "grid_gap": null,
            "grid_row": null,
            "grid_template_areas": null,
            "grid_template_columns": null,
            "grid_template_rows": null,
            "height": null,
            "justify_content": null,
            "justify_items": null,
            "left": null,
            "margin": null,
            "max_height": null,
            "max_width": null,
            "min_height": null,
            "min_width": null,
            "object_fit": null,
            "object_position": null,
            "order": null,
            "overflow": null,
            "overflow_x": null,
            "overflow_y": null,
            "padding": null,
            "right": null,
            "top": null,
            "visibility": null,
            "width": null
          }
        },
        "480bd06bf8f748f1b38c4f8963e313f9": {
          "model_module": "@jupyter-widgets/controls",
          "model_name": "DescriptionStyleModel",
          "model_module_version": "1.5.0",
          "state": {
            "_model_module": "@jupyter-widgets/controls",
            "_model_module_version": "1.5.0",
            "_model_name": "DescriptionStyleModel",
            "_view_count": null,
            "_view_module": "@jupyter-widgets/base",
            "_view_module_version": "1.2.0",
            "_view_name": "StyleView",
            "description_width": ""
          }
        },
        "28ff64ece6a44a3e9ea6f2df771dbab5": {
          "model_module": "@jupyter-widgets/controls",
          "model_name": "HBoxModel",
          "model_module_version": "1.5.0",
          "state": {
            "_dom_classes": [],
            "_model_module": "@jupyter-widgets/controls",
            "_model_module_version": "1.5.0",
            "_model_name": "HBoxModel",
            "_view_count": null,
            "_view_module": "@jupyter-widgets/controls",
            "_view_module_version": "1.5.0",
            "_view_name": "HBoxView",
            "box_style": "",
            "children": [
              "IPY_MODEL_6451bbff5ee541a79769f7659aa2dc4f",
              "IPY_MODEL_9b0b364b2cc847ec948ee36dd39369dc",
              "IPY_MODEL_c2dfbbd62790443babfb1f77878bd78a"
            ],
            "layout": "IPY_MODEL_badcf004ac63412b8b90aa756daa93c3"
          }
        },
        "6451bbff5ee541a79769f7659aa2dc4f": {
          "model_module": "@jupyter-widgets/controls",
          "model_name": "HTMLModel",
          "model_module_version": "1.5.0",
          "state": {
            "_dom_classes": [],
            "_model_module": "@jupyter-widgets/controls",
            "_model_module_version": "1.5.0",
            "_model_name": "HTMLModel",
            "_view_count": null,
            "_view_module": "@jupyter-widgets/controls",
            "_view_module_version": "1.5.0",
            "_view_name": "HTMLView",
            "description": "",
            "description_tooltip": null,
            "layout": "IPY_MODEL_06c424c47d4744bd8bd841084616e0d9",
            "placeholder": "​",
            "style": "IPY_MODEL_f97c03774b8c44e582ba7cfe369c667f",
            "value": "tokenizer.json: 100%"
          }
        },
        "9b0b364b2cc847ec948ee36dd39369dc": {
          "model_module": "@jupyter-widgets/controls",
          "model_name": "FloatProgressModel",
          "model_module_version": "1.5.0",
          "state": {
            "_dom_classes": [],
            "_model_module": "@jupyter-widgets/controls",
            "_model_module_version": "1.5.0",
            "_model_name": "FloatProgressModel",
            "_view_count": null,
            "_view_module": "@jupyter-widgets/controls",
            "_view_module_version": "1.5.0",
            "_view_name": "ProgressView",
            "bar_style": "success",
            "description": "",
            "description_tooltip": null,
            "layout": "IPY_MODEL_fafd58590bbf4a74acd9679ab77c6418",
            "max": 1355863,
            "min": 0,
            "orientation": "horizontal",
            "style": "IPY_MODEL_868ce2f022004ed58976daae2a70d74a",
            "value": 1355863
          }
        },
        "c2dfbbd62790443babfb1f77878bd78a": {
          "model_module": "@jupyter-widgets/controls",
          "model_name": "HTMLModel",
          "model_module_version": "1.5.0",
          "state": {
            "_dom_classes": [],
            "_model_module": "@jupyter-widgets/controls",
            "_model_module_version": "1.5.0",
            "_model_name": "HTMLModel",
            "_view_count": null,
            "_view_module": "@jupyter-widgets/controls",
            "_view_module_version": "1.5.0",
            "_view_name": "HTMLView",
            "description": "",
            "description_tooltip": null,
            "layout": "IPY_MODEL_870ff443dca945a6bdda10f9134439d3",
            "placeholder": "​",
            "style": "IPY_MODEL_5205292904b346d48aa2a6170c2dd1e9",
            "value": " 1.36M/1.36M [00:00&lt;00:00, 45.9MB/s]"
          }
        },
        "badcf004ac63412b8b90aa756daa93c3": {
          "model_module": "@jupyter-widgets/base",
          "model_name": "LayoutModel",
          "model_module_version": "1.2.0",
          "state": {
            "_model_module": "@jupyter-widgets/base",
            "_model_module_version": "1.2.0",
            "_model_name": "LayoutModel",
            "_view_count": null,
            "_view_module": "@jupyter-widgets/base",
            "_view_module_version": "1.2.0",
            "_view_name": "LayoutView",
            "align_content": null,
            "align_items": null,
            "align_self": null,
            "border": null,
            "bottom": null,
            "display": null,
            "flex": null,
            "flex_flow": null,
            "grid_area": null,
            "grid_auto_columns": null,
            "grid_auto_flow": null,
            "grid_auto_rows": null,
            "grid_column": null,
            "grid_gap": null,
            "grid_row": null,
            "grid_template_areas": null,
            "grid_template_columns": null,
            "grid_template_rows": null,
            "height": null,
            "justify_content": null,
            "justify_items": null,
            "left": null,
            "margin": null,
            "max_height": null,
            "max_width": null,
            "min_height": null,
            "min_width": null,
            "object_fit": null,
            "object_position": null,
            "order": null,
            "overflow": null,
            "overflow_x": null,
            "overflow_y": null,
            "padding": null,
            "right": null,
            "top": null,
            "visibility": null,
            "width": null
          }
        },
        "06c424c47d4744bd8bd841084616e0d9": {
          "model_module": "@jupyter-widgets/base",
          "model_name": "LayoutModel",
          "model_module_version": "1.2.0",
          "state": {
            "_model_module": "@jupyter-widgets/base",
            "_model_module_version": "1.2.0",
            "_model_name": "LayoutModel",
            "_view_count": null,
            "_view_module": "@jupyter-widgets/base",
            "_view_module_version": "1.2.0",
            "_view_name": "LayoutView",
            "align_content": null,
            "align_items": null,
            "align_self": null,
            "border": null,
            "bottom": null,
            "display": null,
            "flex": null,
            "flex_flow": null,
            "grid_area": null,
            "grid_auto_columns": null,
            "grid_auto_flow": null,
            "grid_auto_rows": null,
            "grid_column": null,
            "grid_gap": null,
            "grid_row": null,
            "grid_template_areas": null,
            "grid_template_columns": null,
            "grid_template_rows": null,
            "height": null,
            "justify_content": null,
            "justify_items": null,
            "left": null,
            "margin": null,
            "max_height": null,
            "max_width": null,
            "min_height": null,
            "min_width": null,
            "object_fit": null,
            "object_position": null,
            "order": null,
            "overflow": null,
            "overflow_x": null,
            "overflow_y": null,
            "padding": null,
            "right": null,
            "top": null,
            "visibility": null,
            "width": null
          }
        },
        "f97c03774b8c44e582ba7cfe369c667f": {
          "model_module": "@jupyter-widgets/controls",
          "model_name": "DescriptionStyleModel",
          "model_module_version": "1.5.0",
          "state": {
            "_model_module": "@jupyter-widgets/controls",
            "_model_module_version": "1.5.0",
            "_model_name": "DescriptionStyleModel",
            "_view_count": null,
            "_view_module": "@jupyter-widgets/base",
            "_view_module_version": "1.2.0",
            "_view_name": "StyleView",
            "description_width": ""
          }
        },
        "fafd58590bbf4a74acd9679ab77c6418": {
          "model_module": "@jupyter-widgets/base",
          "model_name": "LayoutModel",
          "model_module_version": "1.2.0",
          "state": {
            "_model_module": "@jupyter-widgets/base",
            "_model_module_version": "1.2.0",
            "_model_name": "LayoutModel",
            "_view_count": null,
            "_view_module": "@jupyter-widgets/base",
            "_view_module_version": "1.2.0",
            "_view_name": "LayoutView",
            "align_content": null,
            "align_items": null,
            "align_self": null,
            "border": null,
            "bottom": null,
            "display": null,
            "flex": null,
            "flex_flow": null,
            "grid_area": null,
            "grid_auto_columns": null,
            "grid_auto_flow": null,
            "grid_auto_rows": null,
            "grid_column": null,
            "grid_gap": null,
            "grid_row": null,
            "grid_template_areas": null,
            "grid_template_columns": null,
            "grid_template_rows": null,
            "height": null,
            "justify_content": null,
            "justify_items": null,
            "left": null,
            "margin": null,
            "max_height": null,
            "max_width": null,
            "min_height": null,
            "min_width": null,
            "object_fit": null,
            "object_position": null,
            "order": null,
            "overflow": null,
            "overflow_x": null,
            "overflow_y": null,
            "padding": null,
            "right": null,
            "top": null,
            "visibility": null,
            "width": null
          }
        },
        "868ce2f022004ed58976daae2a70d74a": {
          "model_module": "@jupyter-widgets/controls",
          "model_name": "ProgressStyleModel",
          "model_module_version": "1.5.0",
          "state": {
            "_model_module": "@jupyter-widgets/controls",
            "_model_module_version": "1.5.0",
            "_model_name": "ProgressStyleModel",
            "_view_count": null,
            "_view_module": "@jupyter-widgets/base",
            "_view_module_version": "1.2.0",
            "_view_name": "StyleView",
            "bar_color": null,
            "description_width": ""
          }
        },
        "870ff443dca945a6bdda10f9134439d3": {
          "model_module": "@jupyter-widgets/base",
          "model_name": "LayoutModel",
          "model_module_version": "1.2.0",
          "state": {
            "_model_module": "@jupyter-widgets/base",
            "_model_module_version": "1.2.0",
            "_model_name": "LayoutModel",
            "_view_count": null,
            "_view_module": "@jupyter-widgets/base",
            "_view_module_version": "1.2.0",
            "_view_name": "LayoutView",
            "align_content": null,
            "align_items": null,
            "align_self": null,
            "border": null,
            "bottom": null,
            "display": null,
            "flex": null,
            "flex_flow": null,
            "grid_area": null,
            "grid_auto_columns": null,
            "grid_auto_flow": null,
            "grid_auto_rows": null,
            "grid_column": null,
            "grid_gap": null,
            "grid_row": null,
            "grid_template_areas": null,
            "grid_template_columns": null,
            "grid_template_rows": null,
            "height": null,
            "justify_content": null,
            "justify_items": null,
            "left": null,
            "margin": null,
            "max_height": null,
            "max_width": null,
            "min_height": null,
            "min_width": null,
            "object_fit": null,
            "object_position": null,
            "order": null,
            "overflow": null,
            "overflow_x": null,
            "overflow_y": null,
            "padding": null,
            "right": null,
            "top": null,
            "visibility": null,
            "width": null
          }
        },
        "5205292904b346d48aa2a6170c2dd1e9": {
          "model_module": "@jupyter-widgets/controls",
          "model_name": "DescriptionStyleModel",
          "model_module_version": "1.5.0",
          "state": {
            "_model_module": "@jupyter-widgets/controls",
            "_model_module_version": "1.5.0",
            "_model_name": "DescriptionStyleModel",
            "_view_count": null,
            "_view_module": "@jupyter-widgets/base",
            "_view_module_version": "1.2.0",
            "_view_name": "StyleView",
            "description_width": ""
          }
        }
      }
    }
  },
  "cells": [
    {
      "cell_type": "markdown",
      "metadata": {
        "id": "view-in-github",
        "colab_type": "text"
      },
      "source": [
        "<a href=\"https://colab.research.google.com/github/siddhamapple/Projects/blob/main/Text_summary.ipynb\" target=\"_parent\"><img src=\"https://colab.research.google.com/assets/colab-badge.svg\" alt=\"Open In Colab\"/></a>"
      ]
    },
    {
      "cell_type": "code",
      "source": [],
      "metadata": {
        "id": "lT9otGNogVvf"
      },
      "execution_count": 57,
      "outputs": []
    },
    {
      "cell_type": "markdown",
      "source": [
        "I have option to use transformers but i am using nltk for complete customization\n"
      ],
      "metadata": {
        "id": "DfOkh5dAgWB2"
      }
    },
    {
      "cell_type": "code",
      "execution_count": 58,
      "metadata": {
        "colab": {
          "base_uri": "https://localhost:8080/"
        },
        "collapsed": true,
        "id": "Y5M1e7B9IMAZ",
        "outputId": "e7000376-df8f-4ba8-da46-27becfc6bcd3"
      },
      "outputs": [
        {
          "output_type": "stream",
          "name": "stdout",
          "text": [
            "Requirement already satisfied: transformers in /usr/local/lib/python3.11/dist-packages (4.50.0)\n",
            "Requirement already satisfied: filelock in /usr/local/lib/python3.11/dist-packages (from transformers) (3.18.0)\n",
            "Requirement already satisfied: huggingface-hub<1.0,>=0.26.0 in /usr/local/lib/python3.11/dist-packages (from transformers) (0.29.3)\n",
            "Requirement already satisfied: numpy>=1.17 in /usr/local/lib/python3.11/dist-packages (from transformers) (2.0.2)\n",
            "Requirement already satisfied: packaging>=20.0 in /usr/local/lib/python3.11/dist-packages (from transformers) (24.2)\n",
            "Requirement already satisfied: pyyaml>=5.1 in /usr/local/lib/python3.11/dist-packages (from transformers) (6.0.2)\n",
            "Requirement already satisfied: regex!=2019.12.17 in /usr/local/lib/python3.11/dist-packages (from transformers) (2024.11.6)\n",
            "Requirement already satisfied: requests in /usr/local/lib/python3.11/dist-packages (from transformers) (2.32.3)\n",
            "Requirement already satisfied: tokenizers<0.22,>=0.21 in /usr/local/lib/python3.11/dist-packages (from transformers) (0.21.1)\n",
            "Requirement already satisfied: safetensors>=0.4.3 in /usr/local/lib/python3.11/dist-packages (from transformers) (0.5.3)\n",
            "Requirement already satisfied: tqdm>=4.27 in /usr/local/lib/python3.11/dist-packages (from transformers) (4.67.1)\n",
            "Requirement already satisfied: fsspec>=2023.5.0 in /usr/local/lib/python3.11/dist-packages (from huggingface-hub<1.0,>=0.26.0->transformers) (2025.3.0)\n",
            "Requirement already satisfied: typing-extensions>=3.7.4.3 in /usr/local/lib/python3.11/dist-packages (from huggingface-hub<1.0,>=0.26.0->transformers) (4.12.2)\n",
            "Requirement already satisfied: charset-normalizer<4,>=2 in /usr/local/lib/python3.11/dist-packages (from requests->transformers) (3.4.1)\n",
            "Requirement already satisfied: idna<4,>=2.5 in /usr/local/lib/python3.11/dist-packages (from requests->transformers) (3.10)\n",
            "Requirement already satisfied: urllib3<3,>=1.21.1 in /usr/local/lib/python3.11/dist-packages (from requests->transformers) (2.3.0)\n",
            "Requirement already satisfied: certifi>=2017.4.17 in /usr/local/lib/python3.11/dist-packages (from requests->transformers) (2025.1.31)\n"
          ]
        }
      ],
      "source": [
        "pip install transformers\n"
      ]
    },
    {
      "cell_type": "code",
      "source": [
        "from transformers import pipeline"
      ],
      "metadata": {
        "id": "0g260b_oIQxO"
      },
      "execution_count": 59,
      "outputs": []
    },
    {
      "cell_type": "code",
      "source": [
        "summarizer = pipeline(\"summarization\", model=\"facebook/bart-large-cnn\")"
      ],
      "metadata": {
        "colab": {
          "base_uri": "https://localhost:8080/",
          "height": 350,
          "referenced_widgets": [
            "49196159367f4548bdf0a8641f1e7412",
            "4e5a9c724e4b46a8a39292e18ef01262",
            "fc18974880644650adfd35b124015a54",
            "05ebe8ef26424797b4d365c47c1934ae",
            "d35bae3670f54fbea3c305ef10c58242",
            "966c4cf58dc2450ca81ec43d156426c6",
            "c8bc177c2969430d90f035c290046dd7",
            "2ee506ad2e3e45c58b606403cb7bb8a3",
            "2979badb71c847d68d10aeb9ff6844dd",
            "85e05923673c4c6ca34bb6e6f7204eda",
            "dc4d70f4c7fd470c8d7c1b8c16b1eba3",
            "a49dceec83f94c91b2b1d4804a032e13",
            "5874c837f29e437a9a83eb7f83c5f0c4",
            "ed2415015b3e4449a6645cd07bb65855",
            "be1b3594c82e458dac041b47420702e3",
            "6bdbdd13be9e4743a1151edb74219676",
            "042ee9d73df74c70946bd61d5cc3154e",
            "8f5e6d08082e4508ab4f0c6351fab060",
            "d7025ded329f427cb4e11a6e373caa64",
            "3855ad57df3e4f178615e59f56ace67b",
            "ed8770067ed94232a86a8f6403ec4ef8",
            "dd4dfc9f7f4a4bba970c5f09f2d7ebad",
            "101d87087d2a4b21a7cd4fc5a794e516",
            "7e498e50fef049678a6a672047a64bd3",
            "7883ec44609a43ff893bd1bcdf293688",
            "251a3e08c7eb42de8ff29b53afeb698f",
            "3466b28293264a548cf419921e2c11f2",
            "f76e70323551482e95f316f3fd32c34f",
            "ee6a498d593d44849d9044933304d355",
            "dbbe39c8e79c42229cee5c71d8b1053b",
            "f032801e8c854fca8857d3ec246f540b",
            "8cdec53a41ea4040b9073868197bf6d6",
            "831482b9511742eeae288eaf621842d3",
            "cbc40a8ffc5d41339481dcdbd6c05bc9",
            "6ccb98d7c7734e909d7cf9d80adf0378",
            "b4f46bb1792e495fa0bc072e9a48e9d0",
            "105eca7a53c74f0ca9f051b4be46aa8c",
            "757bca87f9a34a7391a845eaea43bcd6",
            "3c686c5e58854ecb976622ab58e09818",
            "90d33752f50d4b19b9a99e62b82760ac",
            "724dcb32ff6346918e523af73a5a3162",
            "fdb1df7b4ab647278ccede4be18db3de",
            "d3ae9b238b0643928a14f49b5ce826a1",
            "4074bd270fc0447bad2c32076b178ed7",
            "75f04f71a1024b17a8738d2f726cab12",
            "0d506143d0494ec3b7951d7cc458db20",
            "1a03489d210347fd8f00591b1482bab4",
            "273282af829649989fbb9337bbbb49d8",
            "7c6e7c1ea8514c39be0f393226e76581",
            "68b3e153322b401d9431a9b282b478e4",
            "796ba176b753457eb279807a8f9c399c",
            "ba13ad729dc34b33a2ced006eb6ad0bc",
            "bce3407495fb401d9ca62a8ab769db35",
            "89e5a414d3cf4be4ac9ed4f13a561b82",
            "480bd06bf8f748f1b38c4f8963e313f9",
            "28ff64ece6a44a3e9ea6f2df771dbab5",
            "6451bbff5ee541a79769f7659aa2dc4f",
            "9b0b364b2cc847ec948ee36dd39369dc",
            "c2dfbbd62790443babfb1f77878bd78a",
            "badcf004ac63412b8b90aa756daa93c3",
            "06c424c47d4744bd8bd841084616e0d9",
            "f97c03774b8c44e582ba7cfe369c667f",
            "fafd58590bbf4a74acd9679ab77c6418",
            "868ce2f022004ed58976daae2a70d74a",
            "870ff443dca945a6bdda10f9134439d3",
            "5205292904b346d48aa2a6170c2dd1e9"
          ]
        },
        "collapsed": true,
        "id": "xDDE2St2NV_a",
        "outputId": "8b818621-5380-4455-99c4-054bea99821c"
      },
      "execution_count": 60,
      "outputs": [
        {
          "output_type": "stream",
          "name": "stderr",
          "text": [
            "/usr/local/lib/python3.11/dist-packages/huggingface_hub/utils/_auth.py:94: UserWarning: \n",
            "The secret `HF_TOKEN` does not exist in your Colab secrets.\n",
            "To authenticate with the Hugging Face Hub, create a token in your settings tab (https://huggingface.co/settings/tokens), set it as secret in your Google Colab and restart your session.\n",
            "You will be able to reuse this secret in all of your notebooks.\n",
            "Please note that authentication is recommended but still optional to access public models or datasets.\n",
            "  warnings.warn(\n"
          ]
        },
        {
          "output_type": "display_data",
          "data": {
            "text/plain": [
              "config.json:   0%|          | 0.00/1.58k [00:00<?, ?B/s]"
            ],
            "application/vnd.jupyter.widget-view+json": {
              "version_major": 2,
              "version_minor": 0,
              "model_id": "49196159367f4548bdf0a8641f1e7412"
            }
          },
          "metadata": {}
        },
        {
          "output_type": "display_data",
          "data": {
            "text/plain": [
              "model.safetensors:   0%|          | 0.00/1.63G [00:00<?, ?B/s]"
            ],
            "application/vnd.jupyter.widget-view+json": {
              "version_major": 2,
              "version_minor": 0,
              "model_id": "a49dceec83f94c91b2b1d4804a032e13"
            }
          },
          "metadata": {}
        },
        {
          "output_type": "display_data",
          "data": {
            "text/plain": [
              "generation_config.json:   0%|          | 0.00/363 [00:00<?, ?B/s]"
            ],
            "application/vnd.jupyter.widget-view+json": {
              "version_major": 2,
              "version_minor": 0,
              "model_id": "101d87087d2a4b21a7cd4fc5a794e516"
            }
          },
          "metadata": {}
        },
        {
          "output_type": "display_data",
          "data": {
            "text/plain": [
              "vocab.json:   0%|          | 0.00/899k [00:00<?, ?B/s]"
            ],
            "application/vnd.jupyter.widget-view+json": {
              "version_major": 2,
              "version_minor": 0,
              "model_id": "cbc40a8ffc5d41339481dcdbd6c05bc9"
            }
          },
          "metadata": {}
        },
        {
          "output_type": "display_data",
          "data": {
            "text/plain": [
              "merges.txt:   0%|          | 0.00/456k [00:00<?, ?B/s]"
            ],
            "application/vnd.jupyter.widget-view+json": {
              "version_major": 2,
              "version_minor": 0,
              "model_id": "75f04f71a1024b17a8738d2f726cab12"
            }
          },
          "metadata": {}
        },
        {
          "output_type": "display_data",
          "data": {
            "text/plain": [
              "tokenizer.json:   0%|          | 0.00/1.36M [00:00<?, ?B/s]"
            ],
            "application/vnd.jupyter.widget-view+json": {
              "version_major": 2,
              "version_minor": 0,
              "model_id": "28ff64ece6a44a3e9ea6f2df771dbab5"
            }
          },
          "metadata": {}
        },
        {
          "output_type": "stream",
          "name": "stderr",
          "text": [
            "Device set to use cuda:0\n"
          ]
        }
      ]
    },
    {
      "cell_type": "code",
      "source": [
        "text= \"\"\"Natural Language Processing (NLP) is a subfield of AI that focuses on the interaction\n",
        "between computers and humans using natural language. The goal of NLP is to enable computers to\n",
        "understand, interpret, and generate human language in a way that is both meaningful and useful.\n",
        "Common applications of NLP include machine translation, chatbots, text summarization, and sentiment analysis.\n",
        "Barack Obama was the 44th President of the United States. \"\"\"\n"
      ],
      "metadata": {
        "id": "mUXOpSEmOPmv"
      },
      "execution_count": 153,
      "outputs": []
    },
    {
      "cell_type": "code",
      "source": [
        "help(summarizer)"
      ],
      "metadata": {
        "id": "05zEQcJrOaO0",
        "colab": {
          "base_uri": "https://localhost:8080/"
        },
        "outputId": "f5193241-daa5-4196-e146-280054dd6d62"
      },
      "execution_count": 154,
      "outputs": [
        {
          "output_type": "stream",
          "name": "stdout",
          "text": [
            "Help on SummarizationPipeline in module transformers.pipelines.text2text_generation object:\n",
            "\n",
            "class SummarizationPipeline(Text2TextGenerationPipeline)\n",
            " |  SummarizationPipeline(*args, **kwargs)\n",
            " |  \n",
            " |  Summarize news articles and other documents.\n",
            " |  \n",
            " |  This summarizing pipeline can currently be loaded from [`pipeline`] using the following task identifier:\n",
            " |  `\"summarization\"`.\n",
            " |  \n",
            " |  The models that this pipeline can use are models that have been fine-tuned on a summarization task, which is\n",
            " |  currently, '*bart-large-cnn*', '*google-t5/t5-small*', '*google-t5/t5-base*', '*google-t5/t5-large*', '*google-t5/t5-3b*', '*google-t5/t5-11b*'. See the up-to-date\n",
            " |  list of available models on [huggingface.co/models](https://huggingface.co/models?filter=summarization). For a list\n",
            " |  of available parameters, see the [following\n",
            " |  documentation](https://huggingface.co/docs/transformers/en/main_classes/text_generation#transformers.generation.GenerationMixin.generate)\n",
            " |  \n",
            " |  Usage:\n",
            " |  \n",
            " |  ```python\n",
            " |  # use bart in pytorch\n",
            " |  summarizer = pipeline(\"summarization\")\n",
            " |  summarizer(\"An apple a day, keeps the doctor away\", min_length=5, max_length=20)\n",
            " |  \n",
            " |  # use t5 in tf\n",
            " |  summarizer = pipeline(\"summarization\", model=\"google-t5/t5-base\", tokenizer=\"google-t5/t5-base\", framework=\"tf\")\n",
            " |  summarizer(\"An apple a day, keeps the doctor away\", min_length=5, max_length=20)\n",
            " |  ```\n",
            " |  Arguments:\n",
            " |      model ([`PreTrainedModel`] or [`TFPreTrainedModel`]):\n",
            " |          The model that will be used by the pipeline to make predictions. This needs to be a model inheriting from\n",
            " |          [`PreTrainedModel`] for PyTorch and [`TFPreTrainedModel`] for TensorFlow.\n",
            " |      tokenizer ([`PreTrainedTokenizer`]):\n",
            " |          The tokenizer that will be used by the pipeline to encode data for the model. This object inherits from\n",
            " |          [`PreTrainedTokenizer`].\n",
            " |      modelcard (`str` or [`ModelCard`], *optional*):\n",
            " |          Model card attributed to the model for this pipeline.\n",
            " |      framework (`str`, *optional*):\n",
            " |          The framework to use, either `\"pt\"` for PyTorch or `\"tf\"` for TensorFlow. The specified framework must be\n",
            " |          installed.\n",
            " |  \n",
            " |          If no framework is specified, will default to the one currently installed. If no framework is specified and\n",
            " |          both frameworks are installed, will default to the framework of the `model`, or to PyTorch if no model is\n",
            " |          provided.\n",
            " |      task (`str`, defaults to `\"\"`):\n",
            " |          A task-identifier for the pipeline.\n",
            " |      num_workers (`int`, *optional*, defaults to 8):\n",
            " |          When the pipeline will use *DataLoader* (when passing a dataset, on GPU for a Pytorch model), the number of\n",
            " |          workers to be used.\n",
            " |      batch_size (`int`, *optional*, defaults to 1):\n",
            " |          When the pipeline will use *DataLoader* (when passing a dataset, on GPU for a Pytorch model), the size of\n",
            " |          the batch to use, for inference this is not always beneficial, please read [Batching with\n",
            " |          pipelines](https://huggingface.co/transformers/main_classes/pipelines.html#pipeline-batching) .\n",
            " |      args_parser ([`~pipelines.ArgumentHandler`], *optional*):\n",
            " |          Reference to the object in charge of parsing supplied pipeline parameters.\n",
            " |      device (`int`, *optional*, defaults to -1):\n",
            " |          Device ordinal for CPU/GPU supports. Setting this to -1 will leverage CPU, a positive will run the model on\n",
            " |          the associated CUDA device id. You can pass native `torch.device` or a `str` too\n",
            " |      torch_dtype (`str` or `torch.dtype`, *optional*):\n",
            " |          Sent directly as `model_kwargs` (just a simpler shortcut) to use the available precision for this model\n",
            " |          (`torch.float16`, `torch.bfloat16`, ... or `\"auto\"`)\n",
            " |      binary_output (`bool`, *optional*, defaults to `False`):\n",
            " |          Flag indicating if the output the pipeline should happen in a serialized format (i.e., pickle) or as\n",
            " |          the raw output data e.g. text.\n",
            " |  \n",
            " |  Method resolution order:\n",
            " |      SummarizationPipeline\n",
            " |      Text2TextGenerationPipeline\n",
            " |      transformers.pipelines.base.Pipeline\n",
            " |      transformers.pipelines.base._ScikitCompat\n",
            " |      abc.ABC\n",
            " |      transformers.utils.hub.PushToHubMixin\n",
            " |      builtins.object\n",
            " |  \n",
            " |  Methods defined here:\n",
            " |  \n",
            " |  __call__(self, *args, **kwargs)\n",
            " |      Summarize the text(s) given as inputs.\n",
            " |      \n",
            " |      Args:\n",
            " |          documents (*str* or `List[str]`):\n",
            " |              One or several articles (or one list of articles) to summarize.\n",
            " |          return_text (`bool`, *optional*, defaults to `True`):\n",
            " |              Whether or not to include the decoded texts in the outputs\n",
            " |          return_tensors (`bool`, *optional*, defaults to `False`):\n",
            " |              Whether or not to include the tensors of predictions (as token indices) in the outputs.\n",
            " |          clean_up_tokenization_spaces (`bool`, *optional*, defaults to `False`):\n",
            " |              Whether or not to clean up the potential extra spaces in the text output.\n",
            " |          generate_kwargs:\n",
            " |              Additional keyword arguments to pass along to the generate method of the model (see the generate method\n",
            " |              corresponding to your framework [here](./text_generation)).\n",
            " |      \n",
            " |      Return:\n",
            " |          A list or a list of list of `dict`: Each result comes as a dictionary with the following keys:\n",
            " |      \n",
            " |          - **summary_text** (`str`, present when `return_text=True`) -- The summary of the corresponding input.\n",
            " |          - **summary_token_ids** (`torch.Tensor` or `tf.Tensor`, present when `return_tensors=True`) -- The token\n",
            " |            ids of the summary.\n",
            " |  \n",
            " |  check_inputs(self, input_length: int, min_length: int, max_length: int) -> bool\n",
            " |      Checks whether there might be something wrong with given input with regard to the model.\n",
            " |  \n",
            " |  ----------------------------------------------------------------------\n",
            " |  Data and other attributes defined here:\n",
            " |  \n",
            " |  __abstractmethods__ = frozenset()\n",
            " |  \n",
            " |  return_name = 'summary'\n",
            " |  \n",
            " |  ----------------------------------------------------------------------\n",
            " |  Methods inherited from Text2TextGenerationPipeline:\n",
            " |  \n",
            " |  __init__(self, *args, **kwargs)\n",
            " |      Initialize self.  See help(type(self)) for accurate signature.\n",
            " |  \n",
            " |  postprocess(self, model_outputs, return_type=<ReturnType.TEXT: 1>, clean_up_tokenization_spaces=False)\n",
            " |      Postprocess will receive the raw outputs of the `_forward` method, generally tensors, and reformat them into\n",
            " |      something more friendly. Generally it will output a list or a dict or results (containing just strings and\n",
            " |      numbers).\n",
            " |  \n",
            " |  preprocess(self, inputs, truncation=<TruncationStrategy.DO_NOT_TRUNCATE: 'do_not_truncate'>, **kwargs)\n",
            " |      Preprocess will take the `input_` of a specific pipeline and return a dictionary of everything necessary for\n",
            " |      `_forward` to run properly. It should contain at least one tensor, but might have arbitrary other items.\n",
            " |  \n",
            " |  ----------------------------------------------------------------------\n",
            " |  Methods inherited from transformers.pipelines.base.Pipeline:\n",
            " |  \n",
            " |  check_model_type(self, supported_models: Union[List[str], dict])\n",
            " |      Check if the model class is in supported by the pipeline.\n",
            " |      \n",
            " |      Args:\n",
            " |          supported_models (`List[str]` or `dict`):\n",
            " |              The list of models supported by the pipeline, or a dictionary with model class values.\n",
            " |  \n",
            " |  device_placement(self)\n",
            " |      Context Manager allowing tensor allocation on the user-specified device in framework agnostic way.\n",
            " |      \n",
            " |      Returns:\n",
            " |          Context manager\n",
            " |      \n",
            " |      Examples:\n",
            " |      \n",
            " |      ```python\n",
            " |      # Explicitly ask for tensor allocation on CUDA device :0\n",
            " |      pipe = pipeline(..., device=0)\n",
            " |      with pipe.device_placement():\n",
            " |          # Every framework specific tensor allocation will be done on the request device\n",
            " |          output = pipe(...)\n",
            " |      ```\n",
            " |  \n",
            " |  ensure_tensor_on_device(self, **inputs)\n",
            " |      Ensure PyTorch tensors are on the specified device.\n",
            " |      \n",
            " |      Args:\n",
            " |          inputs (keyword arguments that should be `torch.Tensor`, the rest is ignored):\n",
            " |              The tensors to place on `self.device`.\n",
            " |          Recursive on lists **only**.\n",
            " |      \n",
            " |      Return:\n",
            " |          `Dict[str, torch.Tensor]`: The same as `inputs` but on the proper device.\n",
            " |  \n",
            " |  forward(self, model_inputs, **forward_params)\n",
            " |  \n",
            " |  get_inference_context(self)\n",
            " |  \n",
            " |  get_iterator(self, inputs, num_workers: int, batch_size: int, preprocess_params, forward_params, postprocess_params)\n",
            " |  \n",
            " |  iterate(self, inputs, preprocess_params, forward_params, postprocess_params)\n",
            " |  \n",
            " |  predict(self, X)\n",
            " |      Scikit / Keras interface to transformers' pipelines. This method will forward to __call__().\n",
            " |  \n",
            " |  push_to_hub(self, repo_id: str, use_temp_dir: Optional[bool] = None, commit_message: Optional[str] = None, private: Optional[bool] = None, token: Union[bool, str, NoneType] = None, max_shard_size: Union[int, str, NoneType] = '5GB', create_pr: bool = False, safe_serialization: bool = True, revision: str = None, commit_description: str = None, tags: Optional[List[str]] = None, **deprecated_kwargs) -> str from transformers.utils.hub.PushToHubMixin\n",
            " |      Upload the pipeline file to the 🤗 Model Hub.\n",
            " |      \n",
            " |      Parameters:\n",
            " |          repo_id (`str`):\n",
            " |              The name of the repository you want to push your pipe to. It should contain your organization name\n",
            " |              when pushing to a given organization.\n",
            " |          use_temp_dir (`bool`, *optional*):\n",
            " |              Whether or not to use a temporary directory to store the files saved before they are pushed to the Hub.\n",
            " |              Will default to `True` if there is no directory named like `repo_id`, `False` otherwise.\n",
            " |          commit_message (`str`, *optional*):\n",
            " |              Message to commit while pushing. Will default to `\"Upload pipe\"`.\n",
            " |          private (`bool`, *optional*):\n",
            " |              Whether to make the repo private. If `None` (default), the repo will be public unless the organization's default is private. This value is ignored if the repo already exists.\n",
            " |          token (`bool` or `str`, *optional*):\n",
            " |              The token to use as HTTP bearer authorization for remote files. If `True`, will use the token generated\n",
            " |              when running `huggingface-cli login` (stored in `~/.huggingface`). Will default to `True` if `repo_url`\n",
            " |              is not specified.\n",
            " |          max_shard_size (`int` or `str`, *optional*, defaults to `\"5GB\"`):\n",
            " |              Only applicable for models. The maximum size for a checkpoint before being sharded. Checkpoints shard\n",
            " |              will then be each of size lower than this size. If expressed as a string, needs to be digits followed\n",
            " |              by a unit (like `\"5MB\"`). We default it to `\"5GB\"` so that users can easily load models on free-tier\n",
            " |              Google Colab instances without any CPU OOM issues.\n",
            " |          create_pr (`bool`, *optional*, defaults to `False`):\n",
            " |              Whether or not to create a PR with the uploaded files or directly commit.\n",
            " |          safe_serialization (`bool`, *optional*, defaults to `True`):\n",
            " |              Whether or not to convert the model weights in safetensors format for safer serialization.\n",
            " |          revision (`str`, *optional*):\n",
            " |              Branch to push the uploaded files to.\n",
            " |          commit_description (`str`, *optional*):\n",
            " |              The description of the commit that will be created\n",
            " |          tags (`List[str]`, *optional*):\n",
            " |              List of tags to push on the Hub.\n",
            " |      \n",
            " |      Examples:\n",
            " |      \n",
            " |      ```python\n",
            " |      from transformers import pipeline\n",
            " |      \n",
            " |      pipe = pipeline(\"google-bert/bert-base-cased\")\n",
            " |      \n",
            " |      # Push the pipe to your namespace with the name \"my-finetuned-bert\".\n",
            " |      pipe.push_to_hub(\"my-finetuned-bert\")\n",
            " |      \n",
            " |      # Push the pipe to an organization with the name \"my-finetuned-bert\".\n",
            " |      pipe.push_to_hub(\"huggingface/my-finetuned-bert\")\n",
            " |      ```\n",
            " |  \n",
            " |  run_multi(self, inputs, preprocess_params, forward_params, postprocess_params)\n",
            " |  \n",
            " |  run_single(self, inputs, preprocess_params, forward_params, postprocess_params)\n",
            " |  \n",
            " |  save_pretrained(self, save_directory: Union[str, os.PathLike], safe_serialization: bool = True, **kwargs)\n",
            " |      Save the pipeline's model and tokenizer.\n",
            " |      \n",
            " |      Args:\n",
            " |          save_directory (`str` or `os.PathLike`):\n",
            " |              A path to the directory where to saved. It will be created if it doesn't exist.\n",
            " |          safe_serialization (`str`):\n",
            " |              Whether to save the model using `safetensors` or the traditional way for PyTorch or Tensorflow.\n",
            " |          kwargs (`Dict[str, Any]`, *optional*):\n",
            " |              Additional key word arguments passed along to the [`~utils.PushToHubMixin.push_to_hub`] method.\n",
            " |  \n",
            " |  transform(self, X)\n",
            " |      Scikit / Keras interface to transformers' pipelines. This method will forward to __call__().\n",
            " |  \n",
            " |  ----------------------------------------------------------------------\n",
            " |  Readonly properties inherited from transformers.pipelines.base.Pipeline:\n",
            " |  \n",
            " |  torch_dtype\n",
            " |      Torch dtype of the model (if it's Pytorch model), `None` otherwise.\n",
            " |  \n",
            " |  ----------------------------------------------------------------------\n",
            " |  Data and other attributes inherited from transformers.pipelines.base.Pipeline:\n",
            " |  \n",
            " |  default_input_names = None\n",
            " |  \n",
            " |  ----------------------------------------------------------------------\n",
            " |  Data descriptors inherited from transformers.pipelines.base._ScikitCompat:\n",
            " |  \n",
            " |  __dict__\n",
            " |      dictionary for instance variables\n",
            " |  \n",
            " |  __weakref__\n",
            " |      list of weak references to the object\n",
            "\n"
          ]
        }
      ]
    },
    {
      "cell_type": "code",
      "source": [
        "summary = summarizer(text, max_length=40, min_length=15, do_sample=False)"
      ],
      "metadata": {
        "id": "nYjvUBkJQDFH"
      },
      "execution_count": 155,
      "outputs": []
    },
    {
      "cell_type": "code",
      "source": [
        "summary"
      ],
      "metadata": {
        "colab": {
          "base_uri": "https://localhost:8080/"
        },
        "id": "IWD0boxjQ5yn",
        "outputId": "e953d13c-8021-4855-9705-3d0c911c1f51"
      },
      "execution_count": 156,
      "outputs": [
        {
          "output_type": "execute_result",
          "data": {
            "text/plain": [
              "[{'summary_text': 'Natural Language Processing (NLP) is a subfield of AI that focuses on the interactionbetween computers and humans using natural language. Common applications of NLP include machine translation, chatbots'}]"
            ]
          },
          "metadata": {},
          "execution_count": 156
        }
      ]
    },
    {
      "cell_type": "code",
      "source": [],
      "metadata": {
        "id": "OZijBbw8RALj"
      },
      "execution_count": 156,
      "outputs": []
    },
    {
      "cell_type": "markdown",
      "source": [
        "#NLTK summarizer"
      ],
      "metadata": {
        "id": "1y_iK257gyeo"
      }
    },
    {
      "cell_type": "code",
      "source": [
        "!pip install nltk\n",
        "!pip install svgling"
      ],
      "metadata": {
        "colab": {
          "base_uri": "https://localhost:8080/"
        },
        "id": "Zlf9cPLUg0z8",
        "outputId": "8ac923be-8574-442c-ae34-656ffc5d6e7a"
      },
      "execution_count": 157,
      "outputs": [
        {
          "output_type": "stream",
          "name": "stdout",
          "text": [
            "Requirement already satisfied: nltk in /usr/local/lib/python3.11/dist-packages (3.9.1)\n",
            "Requirement already satisfied: click in /usr/local/lib/python3.11/dist-packages (from nltk) (8.1.8)\n",
            "Requirement already satisfied: joblib in /usr/local/lib/python3.11/dist-packages (from nltk) (1.4.2)\n",
            "Requirement already satisfied: regex>=2021.8.3 in /usr/local/lib/python3.11/dist-packages (from nltk) (2024.11.6)\n",
            "Requirement already satisfied: tqdm in /usr/local/lib/python3.11/dist-packages (from nltk) (4.67.1)\n",
            "Requirement already satisfied: svgling in /usr/local/lib/python3.11/dist-packages (0.5.0)\n",
            "Requirement already satisfied: svgwrite in /usr/local/lib/python3.11/dist-packages (from svgling) (1.4.3)\n"
          ]
        }
      ]
    },
    {
      "cell_type": "code",
      "source": [
        "import nltk\n",
        "import string\n",
        "import re\n",
        "import numpy as np\n",
        "\n",
        "nltk.download('punkt_tab')\n",
        "nltk.download('stopwords')\n",
        "nltk.download('averaged_perceptron_tagger_eng')\n",
        "nltk.download('wordnet')\n",
        "nltk.download('maxent_ne_chunker_tab')  # Required for Named Entity Recognition\n",
        "nltk.download('words')  # Pre-trained words dataset\n"
      ],
      "metadata": {
        "id": "wIsxaQrFksOw",
        "colab": {
          "base_uri": "https://localhost:8080/"
        },
        "outputId": "86c25d7b-9ffe-41bd-cfed-aeeba336b073"
      },
      "execution_count": 158,
      "outputs": [
        {
          "output_type": "stream",
          "name": "stderr",
          "text": [
            "[nltk_data] Downloading package punkt_tab to /root/nltk_data...\n",
            "[nltk_data]   Package punkt_tab is already up-to-date!\n",
            "[nltk_data] Downloading package stopwords to /root/nltk_data...\n",
            "[nltk_data]   Package stopwords is already up-to-date!\n",
            "[nltk_data] Downloading package averaged_perceptron_tagger_eng to\n",
            "[nltk_data]     /root/nltk_data...\n",
            "[nltk_data]   Package averaged_perceptron_tagger_eng is already up-to-\n",
            "[nltk_data]       date!\n",
            "[nltk_data] Downloading package wordnet to /root/nltk_data...\n",
            "[nltk_data]   Package wordnet is already up-to-date!\n",
            "[nltk_data] Downloading package maxent_ne_chunker_tab to\n",
            "[nltk_data]     /root/nltk_data...\n",
            "[nltk_data]   Package maxent_ne_chunker_tab is already up-to-date!\n",
            "[nltk_data] Downloading package words to /root/nltk_data...\n",
            "[nltk_data]   Package words is already up-to-date!\n"
          ]
        },
        {
          "output_type": "execute_result",
          "data": {
            "text/plain": [
              "True"
            ]
          },
          "metadata": {},
          "execution_count": 158
        }
      ]
    },
    {
      "cell_type": "code",
      "source": [
        "from nltk.tokenize import sent_tokenize, word_tokenize\n",
        "from nltk.corpus import stopwords\n",
        "from nltk.stem import SnowballStemmer\n",
        "from nltk.stem import WordNetLemmatizer\n",
        "from nltk import pos_tag\n",
        "from nltk.corpus import wordnet\n",
        "from nltk import ne_chunk\n",
        "from sklearn.feature_extraction.text import TfidfVectorizer\n"
      ],
      "metadata": {
        "id": "sMYyWT1rkmF_"
      },
      "execution_count": 159,
      "outputs": []
    },
    {
      "cell_type": "code",
      "source": [
        "snow_stemmer = SnowballStemmer(language='english')\n",
        "lemmatizer = WordNetLemmatizer()\n",
        "stop_word=set(stopwords.words(\"english\"))"
      ],
      "metadata": {
        "id": "Du4ja03p75cW"
      },
      "execution_count": 160,
      "outputs": []
    },
    {
      "cell_type": "code",
      "source": [
        "text=\"\"\"The Spy Who Loved Me is the ninth novel and tenth book in Ian Fleming's James Bond series. First published on 16 April 1962, it is the shortest and most sexually explicit of Fleming's novels, as well as the only Bond novel told in the first person. Its narrator is a young Canadian woman, Viv Michel. Bond does not appear until two-thirds of the way through the book, arriving at precisely the right moment to save Viv from being raped and murdered. Fleming wrote a prologue to the novel giving the character Viv credit as a co-author. The story uses a recurring motif of Saint George against the dragon, and contains themes of power and the moral ambiguity between those acting with good and evil intent. The reviews were largely negative, with some expressing a desire for a return to the structure and form of the previous Bond novels. Fleming attempted to suppress elements of the book: he blocked a paperback edition and permitted Eon Productions to use only the book's title but not its plot. (This article is part of a featured topic: Ian Fleming's James Bond novels and short stories.)\"\"\""
      ],
      "metadata": {
        "id": "K3DwmmY8gvHe"
      },
      "execution_count": 161,
      "outputs": []
    },
    {
      "cell_type": "code",
      "source": [
        "text = re.sub(r\"\\b(u\\.s\\.a)\\b\", \"USA\", text) #text normalization"
      ],
      "metadata": {
        "id": "B5SdL7vQHaeG"
      },
      "execution_count": 162,
      "outputs": []
    },
    {
      "cell_type": "code",
      "source": [
        "sentences=sent_tokenize(text)\n",
        "words=word_tokenize(text)"
      ],
      "metadata": {
        "id": "2G6L9xrCg6TX"
      },
      "execution_count": 163,
      "outputs": []
    },
    {
      "cell_type": "code",
      "source": [
        " word_freq = {}  # for tfidf\n",
        "\n",
        "for word in words:\n",
        " # word=snow_stemmer.stem(word)\n",
        "  if word in word_freq:\n",
        "    word_freq[word]+=1\n",
        "  else:\n",
        "    word_freq[word]=1"
      ],
      "metadata": {
        "id": "CtqXS5tU4O1R"
      },
      "execution_count": 164,
      "outputs": []
    },
    {
      "cell_type": "code",
      "source": [
        "pos_tags=pos_tag(words)"
      ],
      "metadata": {
        "id": "wKK8k3Vu9_Q-"
      },
      "execution_count": 165,
      "outputs": []
    },
    {
      "cell_type": "code",
      "source": [
        "lemmatized_words=[lemmatizer.lemmatize(word, get_wordnet_pos(tag)) for word, tag in pos_tags]"
      ],
      "metadata": {
        "id": "ksB0YDmT-6r8"
      },
      "execution_count": 166,
      "outputs": []
    },
    {
      "cell_type": "code",
      "source": [
        "def get_wordnet_pos(nltk_tag):   #lemmatization ke liye pos tag nikkal rhe hai , uske hisab se keywords set kr raha hu\n",
        "    if nltk_tag.startswith('J'):  # Adjective\n",
        "        return wordnet.ADJ\n",
        "    elif nltk_tag.startswith('V'):  # Verb\n",
        "        return wordnet.VERB\n",
        "    elif nltk_tag.startswith('N'):  # Noun\n",
        "        return wordnet.NOUN\n",
        "    elif nltk_tag.startswith('R'):  # Adverb\n",
        "        return wordnet.ADV\n",
        "    else:\n",
        "        return wordnet.NOUN  # Default to noun"
      ],
      "metadata": {
        "id": "eLaYC-Xg7Lg9"
      },
      "execution_count": 167,
      "outputs": []
    },
    {
      "cell_type": "code",
      "source": [
        "print(pos_tags)"
      ],
      "metadata": {
        "colab": {
          "base_uri": "https://localhost:8080/"
        },
        "id": "vfOpox2IGHVJ",
        "outputId": "9f706839-72af-41f6-8967-a73b9036938c"
      },
      "execution_count": 168,
      "outputs": [
        {
          "output_type": "stream",
          "name": "stdout",
          "text": [
            "[('The', 'DT'), ('Spy', 'NNP'), ('Who', 'NNP'), ('Loved', 'VBD'), ('Me', 'NNP'), ('is', 'VBZ'), ('the', 'DT'), ('ninth', 'JJ'), ('novel', 'NN'), ('and', 'CC'), ('tenth', 'JJ'), ('book', 'NN'), ('in', 'IN'), ('Ian', 'NNP'), ('Fleming', 'NNP'), (\"'s\", 'POS'), ('James', 'NNP'), ('Bond', 'NNP'), ('series', 'NN'), ('.', '.'), ('First', 'NNP'), ('published', 'VBD'), ('on', 'IN'), ('16', 'CD'), ('April', 'NNP'), ('1962', 'CD'), (',', ','), ('it', 'PRP'), ('is', 'VBZ'), ('the', 'DT'), ('shortest', 'JJS'), ('and', 'CC'), ('most', 'RBS'), ('sexually', 'RB'), ('explicit', 'JJ'), ('of', 'IN'), ('Fleming', 'VBG'), (\"'s\", 'POS'), ('novels', 'NNS'), (',', ','), ('as', 'RB'), ('well', 'RB'), ('as', 'IN'), ('the', 'DT'), ('only', 'JJ'), ('Bond', 'NNP'), ('novel', 'NN'), ('told', 'VBD'), ('in', 'IN'), ('the', 'DT'), ('first', 'JJ'), ('person', 'NN'), ('.', '.'), ('Its', 'PRP$'), ('narrator', 'NN'), ('is', 'VBZ'), ('a', 'DT'), ('young', 'JJ'), ('Canadian', 'JJ'), ('woman', 'NN'), (',', ','), ('Viv', 'NNP'), ('Michel', 'NNP'), ('.', '.'), ('Bond', 'NN'), ('does', 'VBZ'), ('not', 'RB'), ('appear', 'VB'), ('until', 'IN'), ('two-thirds', 'NNS'), ('of', 'IN'), ('the', 'DT'), ('way', 'NN'), ('through', 'IN'), ('the', 'DT'), ('book', 'NN'), (',', ','), ('arriving', 'VBG'), ('at', 'IN'), ('precisely', 'RB'), ('the', 'DT'), ('right', 'JJ'), ('moment', 'NN'), ('to', 'TO'), ('save', 'VB'), ('Viv', 'NNP'), ('from', 'IN'), ('being', 'VBG'), ('raped', 'VBN'), ('and', 'CC'), ('murdered', 'VBN'), ('.', '.'), ('Fleming', 'VBG'), ('wrote', 'VBD'), ('a', 'DT'), ('prologue', 'NN'), ('to', 'TO'), ('the', 'DT'), ('novel', 'NN'), ('giving', 'VBG'), ('the', 'DT'), ('character', 'NN'), ('Viv', 'NNP'), ('credit', 'NN'), ('as', 'IN'), ('a', 'DT'), ('co-author', 'NN'), ('.', '.'), ('The', 'DT'), ('story', 'NN'), ('uses', 'VBZ'), ('a', 'DT'), ('recurring', 'VBG'), ('motif', 'NN'), ('of', 'IN'), ('Saint', 'NNP'), ('George', 'NNP'), ('against', 'IN'), ('the', 'DT'), ('dragon', 'NN'), (',', ','), ('and', 'CC'), ('contains', 'VBZ'), ('themes', 'NNS'), ('of', 'IN'), ('power', 'NN'), ('and', 'CC'), ('the', 'DT'), ('moral', 'JJ'), ('ambiguity', 'NN'), ('between', 'IN'), ('those', 'DT'), ('acting', 'VBG'), ('with', 'IN'), ('good', 'JJ'), ('and', 'CC'), ('evil', 'JJ'), ('intent', 'NN'), ('.', '.'), ('The', 'DT'), ('reviews', 'NNS'), ('were', 'VBD'), ('largely', 'RB'), ('negative', 'JJ'), (',', ','), ('with', 'IN'), ('some', 'DT'), ('expressing', 'VBG'), ('a', 'DT'), ('desire', 'NN'), ('for', 'IN'), ('a', 'DT'), ('return', 'NN'), ('to', 'TO'), ('the', 'DT'), ('structure', 'NN'), ('and', 'CC'), ('form', 'NN'), ('of', 'IN'), ('the', 'DT'), ('previous', 'JJ'), ('Bond', 'NNP'), ('novels', 'NNS'), ('.', '.'), ('Fleming', 'VBG'), ('attempted', 'VBN'), ('to', 'TO'), ('suppress', 'VB'), ('elements', 'NNS'), ('of', 'IN'), ('the', 'DT'), ('book', 'NN'), (':', ':'), ('he', 'PRP'), ('blocked', 'VBD'), ('a', 'DT'), ('paperback', 'NN'), ('edition', 'NN'), ('and', 'CC'), ('permitted', 'VBD'), ('Eon', 'NNP'), ('Productions', 'NNP'), ('to', 'TO'), ('use', 'VB'), ('only', 'RB'), ('the', 'DT'), ('book', 'NN'), (\"'s\", 'POS'), ('title', 'NN'), ('but', 'CC'), ('not', 'RB'), ('its', 'PRP$'), ('plot', 'NN'), ('.', '.'), ('(', '('), ('This', 'DT'), ('article', 'NN'), ('is', 'VBZ'), ('part', 'NN'), ('of', 'IN'), ('a', 'DT'), ('featured', 'JJ'), ('topic', 'NN'), (':', ':'), ('Ian', 'NNP'), ('Fleming', 'NNP'), (\"'s\", 'POS'), ('James', 'NNP'), ('Bond', 'NNP'), ('novels', 'NNS'), ('and', 'CC'), ('short', 'JJ'), ('stories', 'NNS'), ('.', '.'), (')', ')')]\n"
          ]
        }
      ]
    },
    {
      "cell_type": "code",
      "source": [
        "    ne_tree = ne_chunk(pos_tags)\n",
        "    named_entities = []\n",
        "    for subtree in ne_tree:\n",
        "        if hasattr(subtree, 'label'):  # Check if it's a named entity\n",
        "            entity_name = \" \".join([token for token, pos in subtree.leaves()])\n",
        "            named_entities.append(entity_name.lower())  # Convert to lowercase for consistency"
      ],
      "metadata": {
        "id": "vcwjlC2QDdeW"
      },
      "execution_count": 170,
      "outputs": []
    },
    {
      "cell_type": "code",
      "source": [
        "named_entities"
      ],
      "metadata": {
        "colab": {
          "base_uri": "https://localhost:8080/"
        },
        "id": "eunEMnGvS9Xz",
        "outputId": "ada558bf-aa3d-45c5-8395-7ef94bbce3fc"
      },
      "execution_count": 171,
      "outputs": [
        {
          "output_type": "execute_result",
          "data": {
            "text/plain": [
              "['spy who',\n",
              " 'ian',\n",
              " 'james bond',\n",
              " 'first',\n",
              " 'canadian',\n",
              " 'viv michel',\n",
              " 'bond',\n",
              " 'saint george',\n",
              " 'eon productions',\n",
              " 'ian fleming',\n",
              " 'james bond']"
            ]
          },
          "metadata": {},
          "execution_count": 171
        }
      ]
    },
    {
      "cell_type": "code",
      "source": [
        "filtered_words = [word.lower() for word in lemmatized_words if word.lower() not in stop_word and word not in string.punctuation]\n"
      ],
      "metadata": {
        "id": "0HTqLBfAB3G5"
      },
      "execution_count": 172,
      "outputs": []
    },
    {
      "cell_type": "code",
      "source": [
        " def preprocess(sentence):\n",
        "        words = word_tokenize(sentence.lower())  # Convert to lowercase and tokenize\n",
        "        words = [lemmatizer.lemmatize(word) for word in words if word not in stop_word and word not in string.punctuation]\n",
        "        return \" \".join(words)  # Join back into a processed sentence\n",
        "\n",
        "processed_sentences = [preprocess(sentence) for sentence in sentences]"
      ],
      "metadata": {
        "id": "DTko1TC2R30h"
      },
      "execution_count": 173,
      "outputs": []
    },
    {
      "cell_type": "code",
      "source": [
        " vectorizer = TfidfVectorizer()\n",
        "\n",
        " tfidf_matrix = vectorizer.fit_transform(processed_sentences)\n",
        " sentence_scores = np.array(tfidf_matrix.sum(axis=1)).flatten()\n"
      ],
      "metadata": {
        "id": "KSJmGBelGpXn"
      },
      "execution_count": 174,
      "outputs": []
    },
    {
      "cell_type": "code",
      "source": [
        "boost_factor=1.5\n",
        "for i, sentence in enumerate(sentences):\n",
        "     if any(entity in sentence for entity in named_entities):\n",
        "          sentence_scores[i] *= boost_factor  # Increase score"
      ],
      "metadata": {
        "id": "ovcyYdz5TyCT"
      },
      "execution_count": 175,
      "outputs": []
    },
    {
      "cell_type": "code",
      "source": [
        "top_n=3\n",
        "\n",
        "top_sentence_indices = sentence_scores.argsort()[-top_n:][::-1]\n",
        "summary = \"\\n\".join([sentences[i] for i in top_sentence_indices])"
      ],
      "metadata": {
        "id": "EK6Hz5ggRb6y"
      },
      "execution_count": 183,
      "outputs": []
    },
    {
      "cell_type": "code",
      "source": [
        "print(summary)"
      ],
      "metadata": {
        "colab": {
          "base_uri": "https://localhost:8080/"
        },
        "id": "SPSQFQj4RimI",
        "outputId": "65e6e078-7455-4f4a-b2aa-43ff8cefbdc3"
      },
      "execution_count": 185,
      "outputs": [
        {
          "output_type": "stream",
          "name": "stdout",
          "text": [
            "First published on 16 April 1962, it is the shortest and most sexually explicit of Fleming's novels, as well as the only Bond novel told in the first person.\n",
            "The story uses a recurring motif of Saint George against the dragon, and contains themes of power and the moral ambiguity between those acting with good and evil intent.\n",
            "Bond does not appear until two-thirds of the way through the book, arriving at precisely the right moment to save Viv from being raped and murdered.\n"
          ]
        }
      ]
    },
    {
      "cell_type": "code",
      "source": [],
      "metadata": {
        "id": "Z5a_GowwSNx-"
      },
      "execution_count": null,
      "outputs": []
    }
  ]
}