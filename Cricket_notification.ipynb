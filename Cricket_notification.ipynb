{
  "nbformat": 4,
  "nbformat_minor": 0,
  "metadata": {
    "colab": {
      "provenance": [],
      "authorship_tag": "ABX9TyMc/MVWOUiJXSjbstJoU5cr",
      "include_colab_link": true
    },
    "kernelspec": {
      "name": "python3",
      "display_name": "Python 3"
    },
    "language_info": {
      "name": "python"
    }
  },
  "cells": [
    {
      "cell_type": "markdown",
      "metadata": {
        "id": "view-in-github",
        "colab_type": "text"
      },
      "source": [
        "<a href=\"https://colab.research.google.com/github/siddhamapple/Projects/blob/main/Cricket_notification.ipynb\" target=\"_parent\"><img src=\"https://colab.research.google.com/assets/colab-badge.svg\" alt=\"Open In Colab\"/></a>"
      ]
    },
    {
      "cell_type": "code",
      "execution_count": 4,
      "metadata": {
        "id": "WjwDqEWkQPbx"
      },
      "outputs": [],
      "source": [
        "#print the data of cricket match if india is playing"
      ]
    },
    {
      "cell_type": "code",
      "source": [
        "import requests\n",
        "import json\n",
        "\n",
        "API_KEY = \"D18haZnedRZ3QijAQEJJV97U5r23\"\n",
        "MATCHES_URL = f\"http://cricapi.com/api/matches?apikey={API_KEY}\"\n",
        "SCORE_URL = \"http://cricapi.com/api/cricketScore?apikey={API_KEY}&unique_id={{}}\"\n",
        "\n",
        "try:\n",
        "    # Fetch match data\n",
        "    r = requests.get(MATCHES_URL)\n",
        "    data = r.json()\n",
        "\n",
        "    match_id = None\n",
        "    for match in data.get('matches', []):\n",
        "        if \"India\" in (match.get('team-1', ''), match.get('team-2', '')) and match.get('matchStarted'):\n",
        "            print(\"Match found:\", match['team-1'], \"vs\", match['team-2'])\n",
        "            match_id = match['unique_id']\n",
        "            break\n",
        "\n",
        "    if match_id:\n",
        "        # Fetch score\n",
        "        r = requests.get(SCORE_URL.format(match_id))\n",
        "        score_data = r.json()\n",
        "\n",
        "        score = score_data.get('score', 'Score not available')\n",
        "        stat = score_data.get('stat', 'Match info not available')\n",
        "\n",
        "        # Display score in Colab output\n",
        "        print(f\"Match Status: {stat}\")\n",
        "        print(f\"Score: {score}\")\n",
        "    else:\n",
        "        print(\"No live matches for India found.\")\n",
        "\n",
        "except requests.exceptions.RequestException as e:\n",
        "    print(\"Error fetching data:\", e)\n",
        "except KeyError as e:\n",
        "    print(\"Unexpected data format, missing key:\", e)\n"
      ],
      "metadata": {
        "colab": {
          "base_uri": "https://localhost:8080/"
        },
        "id": "edUfvZU2QanN",
        "outputId": "a16e78e4-80eb-4fed-f86b-4a07a35e23fe"
      },
      "execution_count": 5,
      "outputs": [
        {
          "output_type": "stream",
          "name": "stdout",
          "text": [
            "Error fetching data: Expecting value: line 1 column 1 (char 0)\n"
          ]
        }
      ]
    },
    {
      "cell_type": "code",
      "source": [],
      "metadata": {
        "id": "mRvpjlk0ROYR"
      },
      "execution_count": null,
      "outputs": []
    }
  ]
}